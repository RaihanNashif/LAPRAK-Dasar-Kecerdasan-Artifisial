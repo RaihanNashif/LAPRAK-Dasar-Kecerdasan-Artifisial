{
 "cells": [
  {
   "cell_type": "markdown",
   "metadata": {},
   "source": [
    "<div align=\"center\">\n",
    "<h1>Jurnal Praktikum Dasar Kecerdasan Artifisial</h1>\n",
    "<h3>Modul 3: Pengenalan <i>Library</i> NetowrkX</h3>\n",
    "</div>"
   ]
  },
  {
   "cell_type": "markdown",
   "metadata": {},
   "source": [
    "### Tujuan Praktikum\n",
    "- Mahasiswa memahami cara mengelola struktur data graf dengan *library* NetworkX\n",
    "- Mahasiswa mengetahui fitur-fitur utama yang tersedia di *library* NetworkX"
   ]
  },
  {
   "cell_type": "markdown",
   "metadata": {},
   "source": [
    "### Fungsi pendukung untuk mencetak graf \n",
    "\n",
    "#### **!! Tidak usah dimodifikasi !!**"
   ]
  },
  {
   "cell_type": "code",
   "execution_count": 1,
   "metadata": {},
   "outputs": [],
   "source": [
    "# Fungsi pendukung untuk mencetak graf\n",
    "def show_graph(G, pos=None, title='') :\n",
    "    # Jika posisi tidak ditentukan dari parameter maka akan generate posisi baru\n",
    "    if pos == None :\n",
    "        # Variabel pos yang menyimpat koordinat penempatan node\n",
    "        pos = nx.spring_layout(G)\n",
    "\n",
    "    # Plot graf G yang diberikan pada parameter\n",
    "    nx.draw(\n",
    "        G,\n",
    "        pos,\n",
    "        with_labels=True,\n",
    "        node_color=\"red\",\n",
    "        node_size=2000,\n",
    "        font_color=\"white\",\n",
    "        font_weight=\"bold\",\n",
    "        width=5\n",
    "    )\n",
    "\n",
    "    # Mengambil setiap weight dari setiap edge pada graf G\n",
    "    edge_labels = nx.get_edge_attributes(G, \"weight\")\n",
    "\n",
    "    # Menggambar weight dari edge pada visualisasi\n",
    "    nx.draw_networkx_edge_labels(\n",
    "        G,\n",
    "        pos,\n",
    "        edge_labels=edge_labels,\n",
    "        font_color=\"blue\",\n",
    "        font_weight=\"bold\",\n",
    "        font_size=12\n",
    "    )\n",
    "\n",
    "    # Menambahkan margin pada setiap sisi\n",
    "    plt.margins(0.2)\n",
    "    # Menambahkan judul sesuai yang diberikan oleh parameter\n",
    "    plt.title(title)\n",
    "    # Menampilkan visualisasi graf pada terminal\n",
    "    plt.show()\n",
    "    "
   ]
  },
  {
   "cell_type": "markdown",
   "metadata": {},
   "source": [
    "### Import *Library* NetworkX dan Matplotlib\n",
    "\n",
    "*Library* Matplotlib digunakan untuk membantu menampilkan visualisasi graf pada terminal."
   ]
  },
  {
   "cell_type": "code",
   "execution_count": 1,
   "metadata": {},
   "outputs": [],
   "source": [
    "import networkx as nx # Import library NetworkX\n",
    "import matplotlib.pyplot as plt # Import library Matplotlib"
   ]
  },
  {
   "cell_type": "markdown",
   "metadata": {},
   "source": [
    "### 1. *Undirected Graph* pada NetworkX (Bobot Nilai: `30`)"
   ]
  },
  {
   "cell_type": "markdown",
   "metadata": {},
   "source": [
    "#### **!! Tidak usah dimodifikasi !!**"
   ]
  },
  {
   "cell_type": "code",
   "execution_count": 8,
   "metadata": {},
   "outputs": [],
   "source": [
    "# Posisi untuk undirected graph agar sesuai dengan contoh soal\n",
    "pos = {\n",
    "    \"A\": (0, 1),\n",
    "    \"B\": (1, 2),\n",
    "    \"C\": (1, 0),\n",
    "    \"D\": (2, 1),\n",
    "    \"E\": (3, 1),\n",
    "}"
   ]
  },
  {
   "cell_type": "markdown",
   "metadata": {},
   "source": [
    "**a.** Inisalisasi graf tidak berarah pada NetworkX, kemudian tampilkan graf tersebut dengan menggunakan fungsi bantuan `show_graph`"
   ]
  },
  {
   "cell_type": "code",
   "execution_count": 121,
   "metadata": {},
   "outputs": [
    {
     "data": {
      "image/png": "[encoded data removed]",
      "text/plain": [
       "<Figure size 600x400 with 1 Axes>"
      ]
     },
     "metadata": {},
     "output_type": "display_data"
    }
   ],
   "source": [
    "# Inisialisasi undirected graph\n",
    "G = nx.Graph()\n",
    "\n",
    "def show_graph(G, title=\"Graph\"):\n",
    "    plt.figure(figsize=(6, 4))\n",
    "    nx.draw(G, with_labels=True, node_color='lightblue', edge_color='gray', node_size=1000, font_size=10)\n",
    "    plt.title(title)\n",
    "    plt.show()\n",
    "\n",
    "\n",
    "# Cetak graf\n",
    "show_graph(G, title=\"Undirected Graph Kosong\")"
   ]
  },
  {
   "cell_type": "markdown",
   "metadata": {},
   "source": [
    "Contoh *output*:"
   ]
  },
  {
   "cell_type": "markdown",
   "metadata": {},
   "source": [
    "![Undirected Graph Kosong](./asset/1_empty_undirected_graph.png)"
   ]
  },
  {
   "cell_type": "markdown",
   "metadata": {},
   "source": [
    "**b.** Tambahkan *node* `A`, `B`, `C`, `D`, dan `E` pada graf, dan cetak graf dengan posisi `pos` yang sudah didefinisiakn\n",
    "\n",
    "Tip:\n",
    "\n",
    "Penambahan *node* pada graf dapat menggunakan `.add_nodes_from()` atau `.add_node()`"
   ]
  },
  {
   "cell_type": "code",
   "execution_count": 125,
   "metadata": {},
   "outputs": [
    {
     "data": {
      "image/png": "[encoded data removed]",
      "text/plain": [
       "<Figure size 500x400 with 1 Axes>"
      ]
     },
     "metadata": {},
     "output_type": "display_data"
    }
   ],
   "source": [
    "# Inisialisasi undirected graph\n",
    "G = nx.Graph()\n",
    "# Tambahkan node A, B, C, D, dan E\n",
    "G.add_nodes_from([\"A\", \"B\", \"C\", \"D\", \"E\"])\n",
    "\n",
    "# Definisikan posisi node secara manual (opsional)\n",
    "pos = {\n",
    "    \"A\": (0, 1),\n",
    "    \"B\": (1, 2),\n",
    "    \"C\": (1, 0),\n",
    "    \"D\": (2, 1),\n",
    "    \"E\": (3, 1)\n",
    "}\n",
    "\n",
    "# Fungsi untuk menampilkan graf dengan posisi yang sudah ditentukan\n",
    "def show_graph(G, pos, title=\"Graph\"):\n",
    "    plt.figure(figsize=(5, 4))\n",
    "    nx.draw(G, pos, with_labels=True, node_color='red', font_color='white', edge_color='black', node_size=2000, font_size=12, font_weight='bold')\n",
    "    plt.margins(0.2)\n",
    "    plt.title(title)\n",
    "    plt.show()\n",
    "\n",
    "\n",
    "# Tampilkan graf dengan posisi yang sudah ditentukan\n",
    "show_graph(G, pos, title=\"Menambahkan Node pada Undirected Graph\")\n"
   ]
  },
  {
   "cell_type": "markdown",
   "metadata": {},
   "source": [
    "Contoh *output*:\n",
    "\n",
    "![Tambah node pada Undirected Graph](./asset/2_add_node_undirected_graph.png)"
   ]
  },
  {
   "cell_type": "markdown",
   "metadata": {},
   "source": [
    "**c.** Tambahkan *edge* pada graf sebagai berikut:\n",
    "- A - B\n",
    "- A - C\n",
    "- B - D\n",
    "- C - D\n",
    "- D - E\n",
    "\n",
    "Tip :\n",
    "Pada *undirected graph*, *edge* A - B sama seperti *edge* B - A. Penambahan *edge* pada graf dapat menggunakan `.add_edge()` atau `.add_edges_from()`"
   ]
  },
  {
   "cell_type": "code",
   "execution_count": 166,
   "metadata": {},
   "outputs": [
    {
     "data": {
      "image/png": "[encoded data removed]",
      "text/plain": [
       "<Figure size 600x500 with 1 Axes>"
      ]
     },
     "metadata": {},
     "output_type": "display_data"
    }
   ],
   "source": [
    "# Inisialisasi undirected graph\n",
    "G = nx.Graph()\n",
    "\n",
    "# Tambahkan node A, B, C, D, dan E\n",
    "G.add_nodes_from([\"A\", \"B\", \"C\", \"D\", \"E\"])\n",
    "\n",
    "# Tambahkan edge sesuai dengan soal\n",
    "G.add_edges_from([\n",
    "    (\"A\", \"B\"),\n",
    "    (\"A\", \"C\"),\n",
    "    (\"B\", \"D\"),\n",
    "    (\"C\", \"D\"),\n",
    "    (\"D\", \"E\")\n",
    "])\n",
    "\n",
    "# Definisikan posisi node secara manual (opsional)\n",
    "pos = {\n",
    "    \"A\": (-1, 0),\n",
    "    \"B\": (0, 1),\n",
    "    \"C\": (0, -1),\n",
    "    \"D\": (1, 0),\n",
    "    \"E\": (2, 0)\n",
    "}\n",
    "\n",
    "# Fungsi untuk menampilkan graf dengan posisi yang sudah ditentukan\n",
    "def show_graph(G, pos, title=\"Graph\"):\n",
    "    plt.figure(figsize=(6, 5))\n",
    "    nx.draw(G, pos, with_labels=True, node_color='red', font_color='white', edge_color='black', node_size=2000, font_size=12, font_weight='bold', width=5)\n",
    "    plt.margins(0.2)\n",
    "    plt.title(title)\n",
    "    plt.show()\n",
    "\n",
    "# Tampilkan graf dengan posisi yang sudah ditentukan\n",
    "show_graph(G, pos, title=\"Menambahkan Edge pada Undirected Graph\")\n"
   ]
  },
  {
   "cell_type": "markdown",
   "metadata": {},
   "source": [
    "Contoh *output*:\n",
    "\n",
    "![Menambahkan edge pada graf](./asset/3_add_edge_undirected_graph.png)"
   ]
  },
  {
   "cell_type": "markdown",
   "metadata": {},
   "source": [
    "**d.** Cetak elemen pada graf yang terdiri dari\n",
    "- Daftar semua *node* yang terdapat dalam graf\n",
    "- Daftar semua *edge* yang terdapat dalam graf\n",
    "- Daftar tentangga pada setiap *node* dalam graf\n",
    "- Nilai derajat setiap *node* dalam graf"
   ]
  },
  {
   "cell_type": "code",
   "execution_count": 119,
   "metadata": {},
   "outputs": [
    {
     "name": "stdout",
     "output_type": "stream",
     "text": [
      "Node yang terdapat pada Graf\n",
      "['A', 'B', 'C', 'D', 'E']\n",
      "\n",
      "Edge yang terdapat pada graf\n",
      "[('A', 'B'), ('A', 'C'), ('B', 'D'), ('C', 'D'), ('D', 'E')]\n",
      "\n",
      "Tetangga Setiap Node dalam G\n",
      "Tetangga A: ['B', 'C']\n",
      "Tetangga B: ['A', 'D']\n",
      "Tetangga C: ['A', 'D']\n",
      "Tetangga D: ['B', 'C', 'E']\n",
      "Tetangga E: ['D']\n",
      "\n",
      "Derajat G\n",
      "Derajat A: 2\n",
      "Derajat B: 2\n",
      "Derajat C: 2\n",
      "Derajat D: 3\n",
      "Derajat E: 1\n"
     ]
    }
   ],
   "source": [
    "import networkx as nx\n",
    "\n",
    "# Inisialisasi graf tak berarah\n",
    "G = nx.Graph()\n",
    "# Tambahkan node A, B, C, D, dan E\n",
    "G.add_nodes_from([\"A\", \"B\", \"C\", \"D\", \"E\"])\n",
    "\n",
    "# Tambahkan edge sesuai dengan soal\n",
    "G.add_edges_from([\n",
    "    (\"A\", \"B\"),\n",
    "    (\"A\", \"C\"),\n",
    "    (\"B\", \"D\"),\n",
    "    (\"C\", \"D\"),\n",
    "    (\"D\", \"E\")\n",
    "])\n",
    "\n",
    "# Cetak daftar semua node dalam graf\n",
    "print(\"Node yang terdapat pada Graf\")\n",
    "print(list(G.nodes))\n",
    "\n",
    "# Cetak daftar semua edge dalam graf\n",
    "print(\"\\nEdge yang terdapat pada graf\")\n",
    "print(list(G.edges))\n",
    "\n",
    "# Cetak daftar tetangga dari setiap node\n",
    "print(\"\\nTetangga Setiap Node dalam G\")\n",
    "for node in G.nodes:\n",
    "    print(f\"Tetangga {node}: {list(G.neighbors(node))}\")\n",
    "\n",
    "# Cetak derajat setiap node\n",
    "print(\"\\nDerajat G\")\n",
    "for node in G.nodes:\n",
    "    print(f\"Derajat {node}: {G.degree[node]}\")"
   ]
  },
  {
   "cell_type": "markdown",
   "metadata": {},
   "source": [
    "Contoh *output*:\n",
    "\n",
    "```\n",
    "Node yang terdapat pada Graf\n",
    "['A', 'B', 'C', 'D', 'E']\n",
    "\n",
    "Edge yang terdapat pada graf\n",
    "[('A', 'B'), ('A', 'C'), ('B', 'D'), ('C', 'D'), ('D', 'E')]\n",
    "\n",
    "Tetangga Setiap Node dalam G\n",
    "Tetangga A: ['B', 'C']\n",
    "Tetangga B: ['A', 'D']\n",
    "Tetangga C: ['A', 'D']\n",
    "Tetangga D: ['B', 'C', 'E']\n",
    "Tetangga E: ['D']\n",
    "\n",
    "Derajat G\n",
    "Derajat A: 2\n",
    "Derajat B: 2\n",
    "Derajat C: 2\n",
    "Derajat D: 3\n",
    "Derajat E: 1\n",
    "```"
   ]
  },
  {
   "cell_type": "markdown",
   "metadata": {},
   "source": [
    "**e.** Hapus *edge* C - D dari graf G"
   ]
  },
  {
   "cell_type": "code",
   "execution_count": 127,
   "metadata": {},
   "outputs": [
    {
     "data": {
      "image/png": "[encoded data removed]",
      "text/plain": [
       "<Figure size 500x400 with 1 Axes>"
      ]
     },
     "metadata": {},
     "output_type": "display_data"
    }
   ],
   "source": [
    "# Tambahkan node A, B, C, D, dan E\n",
    "G.add_nodes_from([\"A\", \"B\", \"C\", \"D\", \"E\"])\n",
    "\n",
    "# Tambahkan edge sesuai dengan soal\n",
    "G.add_edges_from([\n",
    "    (\"A\", \"B\"),\n",
    "    (\"A\", \"C\"),\n",
    "    (\"B\", \"D\"),\n",
    "    (\"C\", \"D\"),\n",
    "    (\"D\", \"E\")\n",
    "])\n",
    "\n",
    "# Definisikan posisi node agar berbentuk ketupat\n",
    "pos = {\n",
    "    \"A\": (-1, 0),\n",
    "    \"B\": (0, 1),\n",
    "    \"C\": (0, -1),\n",
    "    \"D\": (1, 0),\n",
    "    \"E\": (2, 0)\n",
    "}\n",
    "\n",
    "# Fungsi untuk menampilkan graf\n",
    "def show_graph(G, pos, title=\"Graph\"):\n",
    "    plt.figure(figsize=(5, 4))\n",
    "    nx.draw(G, pos, with_labels=True, node_color='red', font_color='white', edge_color='black', node_size=1500, font_size=11, font_weight='bold', width=5)\n",
    "    plt.margins(0.2)\n",
    "    plt.title(title)\n",
    "    plt.show()\n",
    "\n",
    "\n",
    "# Hapus edge C - D dari graf G\n",
    "G.remove_edge(\"C\", \"D\")\n",
    "\n",
    "# Cetak graf setelah penghapusan edge\n",
    "show_graph(G, pos, title=\"Penghapusan Edge C - D pada Graf\")"
   ]
  },
  {
   "cell_type": "markdown",
   "metadata": {},
   "source": [
    "Contoh *output*:\n",
    "\n",
    "![Hapus edge C-D dari graf](./asset/4_remove_edge_undirected_graph.png)"
   ]
  },
  {
   "cell_type": "markdown",
   "metadata": {},
   "source": [
    "**f.** Hapus *node* C dari graf G"
   ]
  },
  {
   "cell_type": "code",
   "execution_count": 128,
   "metadata": {},
   "outputs": [
    {
     "data": {
      "image/png": "[encoded data removed]",
      "text/plain": [
       "<Figure size 500x400 with 1 Axes>"
      ]
     },
     "metadata": {},
     "output_type": "display_data"
    }
   ],
   "source": [
    "# Tambahkan node A, B, C, D, dan E\n",
    "G.add_nodes_from([\"A\", \"B\", \"C\", \"D\", \"E\"])\n",
    "\n",
    "# Tambahkan edge sesuai dengan soal\n",
    "G.add_edges_from([\n",
    "    (\"A\", \"B\"),\n",
    "    (\"A\", \"C\"),\n",
    "    (\"B\", \"D\"),\n",
    "    (\"C\", \"D\"),\n",
    "    (\"D\", \"E\")\n",
    "])\n",
    "\n",
    "# Definisikan posisi node agar berbentuk ketupat\n",
    "pos = {\n",
    "    \"A\": (-1, 0),\n",
    "    \"B\": (0, 1),\n",
    "    \"C\": (0, -1),\n",
    "    \"D\": (1, 0),\n",
    "    \"E\": (2, 0)\n",
    "}\n",
    "\n",
    "# Fungsi untuk menampilkan graf\n",
    "def show_graph(G, pos, title=\"Graph\"):\n",
    "    plt.figure(figsize=(5, 4))\n",
    "    nx.draw(G, pos, with_labels=True, node_color='red', font_color='white',  edge_color='black', node_size=1500, font_size=11, font_weight='bold', width=5)\n",
    "    plt.margins(0.2)\n",
    "    plt.title(title)\n",
    "    plt.show()\n",
    "\n",
    "\n",
    "# Hapus node C dari graf G\n",
    "G.remove_node(\"C\")\n",
    "\n",
    "# Cetak graf setelah penghapusan edge\n",
    "show_graph(G, pos, title=\"Penghapusan Node Edge C  pada Graf\")"
   ]
  },
  {
   "cell_type": "markdown",
   "metadata": {},
   "source": [
    "Contoh *output*:\n",
    "\n",
    "![Hapus node C dari Graf](./asset/5_remove_node_undirected_graph.png)"
   ]
  },
  {
   "cell_type": "markdown",
   "metadata": {},
   "source": [
    "### 2. *Directed Graph* pada NetworkX (Bobot Nilai: `30`)"
   ]
  },
  {
   "cell_type": "markdown",
   "metadata": {},
   "source": [
    "### **!! Tidak usah dimodifikasi !!**"
   ]
  },
  {
   "cell_type": "code",
   "execution_count": null,
   "metadata": {},
   "outputs": [],
   "source": [
    "# Posisi untuk directed grtaph agar sesuai dengan contoh soal\n",
    "pos = {\n",
    "    \"A\": (0, 1),\n",
    "    \"B\": (1, 2),\n",
    "    \"C\": (1, 0),\n",
    "    \"D\": (2, 1),\n",
    "    \"E\": (3, 1),\n",
    "}"
   ]
  },
  {
   "cell_type": "markdown",
   "metadata": {},
   "source": [
    "**a.** Inisialisasi graf berarah pada NetworkX, kemudian tampilkan graf tersebut dengan menggunakan fungsi bantuan `show_graph`"
   ]
  },
  {
   "cell_type": "code",
   "execution_count": 97,
   "metadata": {},
   "outputs": [
    {
     "data": {
      "image/png": "[encoded data removed]",
      "text/plain": [
       "<Figure size 600x500 with 1 Axes>"
      ]
     },
     "metadata": {},
     "output_type": "display_data"
    }
   ],
   "source": [
    "# Inisialisasi directed graph\n",
    "G = nx.DiGraph()\n",
    "# Fungsi untuk menampilkan graf dengan posisi yang sudah ditentukan\n",
    "def show_graph(G, pos=None, title=\"Directed Graph\"):\n",
    "    plt.figure(figsize=(6, 5))\n",
    "    nx.draw(G, pos, with_labels=True, node_color='red', font_color='white', \n",
    "            node_size=1500, font_size=11, font_weight='bold', edge_color='gray', \n",
    "            arrows=True, arrowsize=20)  # Menambahkan panah untuk Directed Graph\n",
    "    plt.title(title)\n",
    "    plt.show()\n",
    "\n",
    "# Tampilkan graf yang masih kosong\n",
    "show_graph(G, title=\"Directed Graph Kosong\")"
   ]
  },
  {
   "cell_type": "markdown",
   "metadata": {},
   "source": [
    "Contoh *output*:\n",
    "\n",
    "![Directed Graph Kosong](./asset/6_empty_directed_graph.png)"
   ]
  },
  {
   "cell_type": "markdown",
   "metadata": {},
   "source": [
    "**b.** Tambahkan *node* `A`, `B`, `C`, `D`, dan `E` pada graf, dan cetak graf dengan posisi `pos` yang sudah didefinisiakn\n",
    "\n",
    "Tip:\n",
    "\n",
    "Penambahan *node* pada graf dapat menggunakan `.add_nodes_from()` atau `.add_node()`"
   ]
  },
  {
   "cell_type": "code",
   "execution_count": 135,
   "metadata": {},
   "outputs": [
    {
     "data": {
      "image/png": "[encoded data removed]",
      "text/plain": [
       "<Figure size 600x500 with 1 Axes>"
      ]
     },
     "metadata": {},
     "output_type": "display_data"
    }
   ],
   "source": [
    "# Inisialisasi Directed Graph\n",
    "G = nx.DiGraph()  # Gunakan DiGraph() untuk directed graph\n",
    "\n",
    "# Tambahkan node A, B, C, D, dan E pada graf\n",
    "G.add_nodes_from([\"A\", \"B\", \"C\", \"D\", \"E\"])\n",
    "\n",
    "# Definisikan posisi node secara manual (opsional)\n",
    "pos = {\n",
    "    \"A\": (0, 1),\n",
    "    \"B\": (1, 2),\n",
    "    \"C\": (1, 0),\n",
    "    \"D\": (2, 1),\n",
    "    \"E\": (3, 1)\n",
    "}\n",
    "# Fungsi untuk menampilkan graf dengan posisi yang sudah ditentukan\n",
    "def show_graph(G, pos=None, title=\"Directed Graph\"):\n",
    "    plt.figure(figsize=(6, 5))\n",
    "    nx.draw(G, pos, with_labels=True, node_color='red', font_color='white', \n",
    "            node_size=2000, font_size=12, font_weight='bold',\n",
    "            arrows=True, arrowsize=20)  # Menambahkan panah untuk Directed Graph\n",
    "    plt.margins(0.2)\n",
    "    plt.title(title)\n",
    "    plt.show()\n",
    "\n",
    "# Tampilkan graf menggunakan posisi yang sudah ditentukan\n",
    "show_graph(G, pos, title=\"Menambahkan Node pada Directed Graph\")"
   ]
  },
  {
   "cell_type": "markdown",
   "metadata": {},
   "source": [
    "Contoh *output*:\n",
    "\n",
    "![Tambah node pada Directed Graph](./asset/7_add_node_directed_graph.png)"
   ]
  },
  {
   "cell_type": "markdown",
   "metadata": {},
   "source": [
    "**c.** Tambahkan *edge* pada graf sebagai berikut:\n",
    "- A - B\n",
    "- A - C\n",
    "- D - B\n",
    "- C - D\n",
    "- D - E\n",
    "\n",
    "Tip :\n",
    "Pada *undirected graph*, *edge* A - B sama seperti *edge* B - A. Penambahan *edge* pada graf dapat menggunakan `.add_edge()` atau `.add_edges_from()`"
   ]
  },
  {
   "cell_type": "code",
   "execution_count": 155,
   "metadata": {},
   "outputs": [
    {
     "data": {
      "image/png": "[encoded data removed]",
      "text/plain": [
       "<Figure size 600x500 with 1 Axes>"
      ]
     },
     "metadata": {},
     "output_type": "display_data"
    }
   ],
   "source": [
    "# Inisialisasi Directed Graph\n",
    "G = nx.DiGraph()  # Gunakan DiGraph() untuk directed graph\n",
    "\n",
    "# Tambahkan node A, B, C, D, dan E pada graf\n",
    "G.add_nodes_from([\"A\", \"B\", \"C\", \"D\", \"E\"])\n",
    "\n",
    "# Tambahkan edge sesuai dengan soal\n",
    "G.add_edges_from([\n",
    "    (\"A\", \"B\"),\n",
    "    (\"A\", \"C\"),\n",
    "    (\"D\", \"B\"),\n",
    "    (\"C\", \"D\"),\n",
    "    (\"D\", \"E\")\n",
    "])\n",
    "\n",
    "# Definisikan posisi node secara manual (opsional)\n",
    "pos = {\n",
    "    \"A\": (0, 1),\n",
    "    \"B\": (1, 2),\n",
    "    \"C\": (1, 0),\n",
    "    \"D\": (2, 1),\n",
    "    \"E\": (3, 1)\n",
    "}\n",
    "# Fungsi untuk menampilkan graf dengan posisi yang sudah ditentukan\n",
    "def show_graph(G, pos=None, title=\"Directed Graph\"):\n",
    "    plt.figure(figsize=(6, 5))\n",
    "    nx.draw(G, pos, with_labels=True, node_color='red', font_color='white', \n",
    "            node_size=2000, font_size=12, font_weight='bold', edge_color='black', \n",
    "            arrows=True, arrowsize=20, width=5)  # Menambahkan panah untuk Directed Graph\n",
    "    plt.margins(0.2)\n",
    "    plt.title(title)\n",
    "    plt.show()\n",
    "\n",
    "\n",
    "# Tampilkan graf menggunakan posisi yang sudah ditentukan\n",
    "show_graph(G, pos, title=\"Menambahkan Edge pada Directed Graph\")"
   ]
  },
  {
   "cell_type": "markdown",
   "metadata": {},
   "source": [
    "Contoh *output*:\n",
    "\n",
    "![Menambahkan edge pada graf](./asset/8_add_edge_directed_graph.png)"
   ]
  },
  {
   "cell_type": "markdown",
   "metadata": {},
   "source": [
    "**d.** Cetak elemen pada graf yang terdiri dari\n",
    "- Daftar semua *node* yang terdapat dalam graf\n",
    "- Daftar semua *edge* yang terdapat dalam graf\n",
    "- Daftar tentangga pada setiap *node* dalam graf\n",
    "- Nilai derajat setiap *node* dalam graf\n",
    "- Nilai derajat masuk (*In-Degree*) setiap *node* dalam graf\n",
    "- Nilai derajat keluar (*Out-Degree*) setiap *node* dalam graf"
   ]
  },
  {
   "cell_type": "code",
   "execution_count": 145,
   "metadata": {},
   "outputs": [
    {
     "name": "stdout",
     "output_type": "stream",
     "text": [
      "Node yang terdapat pada Graf\n"
     ]
    },
    {
     "data": {
      "text/plain": [
       "['A', 'B', 'C', 'D', 'E']"
      ]
     },
     "metadata": {},
     "output_type": "display_data"
    },
    {
     "name": "stdout",
     "output_type": "stream",
     "text": [
      "\n",
      "Edge yang terdapat pada graf\n"
     ]
    },
    {
     "data": {
      "text/plain": [
       "[('A', 'B'), ('A', 'C'), ('C', 'D'), ('D', 'B'), ('D', 'E')]"
      ]
     },
     "metadata": {},
     "output_type": "display_data"
    },
    {
     "name": "stdout",
     "output_type": "stream",
     "text": [
      "\n",
      "Tetangga Setiap Node dalam G\n",
      "Tetangga A: ['B', 'C']\n",
      "Tetangga B: []\n",
      "Tetangga C: ['D']\n",
      "Tetangga D: ['B', 'E']\n",
      "Tetangga E: []\n",
      "\n",
      "Derajat G\n",
      "Derajat A: 2\n",
      "Derajat B: 2\n",
      "Derajat C: 2\n",
      "Derajat D: 3\n",
      "Derajat E: 1\n",
      "\n",
      "In-degree node G\n",
      "In-degree A: 0\n",
      "In-degree B: 2\n",
      "In-degree C: 1\n",
      "In-degree D: 1\n",
      "In-degree E: 1\n",
      "\n",
      "Out-degree node G\n",
      "Out-degree A: 2\n",
      "Out-degree B: 0\n",
      "Out-degree C: 1\n",
      "Out-degree D: 2\n",
      "Out-degree E: 0\n"
     ]
    }
   ],
   "source": [
    "from IPython.display import display\n",
    "\n",
    "# Inisialisasi graf berarah\n",
    "G = nx.DiGraph()\n",
    "\n",
    "# Tambahkan node A, B, C, D, dan E\n",
    "G.add_nodes_from([\"A\", \"B\", \"C\", \"D\", \"E\"])\n",
    "\n",
    "# Tambahkan edge sesuai dengan soal\n",
    "G.add_edges_from([\n",
    "    (\"A\", \"B\"),\n",
    "    (\"A\", \"C\"),\n",
    "    (\"C\", \"D\"),\n",
    "    (\"D\", \"B\"),\n",
    "    (\"D\", \"E\")\n",
    "])\n",
    "\n",
    "# Cetak daftar semua node dalam graf\n",
    "print(\"Node yang terdapat pada Graf\")\n",
    "display(list(G.nodes))\n",
    "\n",
    "# Cetak daftar semua edge dalam graf\n",
    "print(\"\\nEdge yang terdapat pada graf\")\n",
    "display(list(G.edges))\n",
    "\n",
    "# Cetak daftar tetangga dari setiap node\n",
    "print(\"\\nTetangga Setiap Node dalam G\")\n",
    "for node in G.nodes:\n",
    "    print(f\"Tetangga {node}: {list(G.neighbors(node))}\")\n",
    "\n",
    "# Cetak derajat setiap node\n",
    "print(\"\\nDerajat G\")\n",
    "for node in G.nodes:\n",
    "    print(f\"Derajat {node}: {G.degree[node]}\")\n",
    "\n",
    "# Cetak in-degree setiap node\n",
    "print(\"\\nIn-degree node G\")\n",
    "for node in G.nodes:\n",
    "    print(f\"In-degree {node}: {G.in_degree(node)}\")\n",
    "\n",
    "# Cetak out-degree setiap node\n",
    "print(\"\\nOut-degree node G\")\n",
    "for node in G.nodes:\n",
    "    print(f\"Out-degree {node}: {G.out_degree(node)}\")\n"
   ]
  },
  {
   "cell_type": "markdown",
   "metadata": {},
   "source": [
    "Contoh *output*:\n",
    "\n",
    "```\n",
    "Node yang terdapat pada Graf\n",
    "['A', 'B', 'C', 'D', 'E']\n",
    "\n",
    "Edge yang terdapat pada graf\n",
    "[('A', 'B'), ('A', 'C'), ('C', 'D'), ('D', 'B'), ('D', 'E')]\n",
    "\n",
    "Tetangga Setiap Node dalam G\n",
    "Tetangga A: ['B', 'C']\n",
    "Tetangga B: []\n",
    "Tetangga C: ['D']\n",
    "Tetangga D: ['B', 'E']\n",
    "Tetangga E: []\n",
    "\n",
    "Derajat G\n",
    "Derajat A: 2\n",
    "Derajat B: 2\n",
    "Derajat C: 2\n",
    "Derajat D: 3\n",
    "Derajat E: 1\n",
    "\n",
    "In-degree node G\n",
    "In-degree A: 0\n",
    "In-degree B: 2\n",
    "In-degree C: 1\n",
    "In-degree D: 1\n",
    "In-degree E: 1\n",
    "\n",
    "Out-degree node G\n",
    "Out-degree A: 2\n",
    "Out-degree B: 0\n",
    "Out-degree C: 1\n",
    "Out-degree D: 2\n",
    "Out-degree E: 0\n",
    "```"
   ]
  },
  {
   "cell_type": "markdown",
   "metadata": {},
   "source": [
    "**e.** Hapus *edge* C - D dari graf G"
   ]
  },
  {
   "cell_type": "code",
   "execution_count": 153,
   "metadata": {},
   "outputs": [
    {
     "data": {
      "image/png": "[encoded data removed]",
      "text/plain": [
       "<Figure size 600x500 with 1 Axes>"
      ]
     },
     "metadata": {},
     "output_type": "display_data"
    }
   ],
   "source": [
    "# Inisialisasi Directed Graph\n",
    "G = nx.DiGraph()  # Gunakan DiGraph() untuk directed graph\n",
    "\n",
    "# Tambahkan node A, B, C, D, dan E pada graf\n",
    "G.add_nodes_from([\"A\", \"B\", \"C\", \"D\", \"E\"])\n",
    "\n",
    "# Tambahkan edge sesuai dengan soal\n",
    "G.add_edges_from([\n",
    "    (\"A\", \"B\"),\n",
    "    (\"A\", \"C\"),\n",
    "    (\"D\", \"B\"),\n",
    "    (\"C\", \"D\"),\n",
    "    (\"D\", \"E\")\n",
    "])\n",
    "\n",
    "# Definisikan posisi node secara manual (opsional)\n",
    "pos = {\n",
    "    \"A\": (0, 1),\n",
    "    \"B\": (1, 2),\n",
    "    \"C\": (1, 0),\n",
    "    \"D\": (2, 1),\n",
    "    \"E\": (3, 1)\n",
    "}\n",
    "# Fungsi untuk menampilkan graf dengan posisi yang sudah ditentukan\n",
    "def show_graph(G, pos=None, title=\"Directed Graph\"):\n",
    "    plt.figure(figsize=(6, 5))\n",
    "    nx.draw(G, pos, with_labels=True, node_color='red', font_color='white', \n",
    "            node_size=2000, font_size=12, font_weight='bold', edge_color='black', \n",
    "            arrows=True, arrowsize=20, width=5)  # Menambahkan panah untuk Directed Graph\n",
    "    plt.margins(0.2)\n",
    "    plt.title(title)\n",
    "    plt.show()\n",
    "\n",
    "# Hapus edge C - D dari graf G\n",
    "G.remove_edge(\"C\", \"D\")\n",
    "\n",
    "# Tampilkan graf menggunakan posisi yang sudah ditentukan\n",
    "show_graph(G, pos, title=\"Penghapusan Edge C - D pada Graf\")"
   ]
  },
  {
   "cell_type": "markdown",
   "metadata": {},
   "source": [
    "Contoh *output*:\n",
    "\n",
    "![Hapus edge C-D dari graf](./asset/9_remove_edge_directed_graph.png)"
   ]
  },
  {
   "cell_type": "markdown",
   "metadata": {},
   "source": [
    "**f.** Hapus *node* C dari graf G"
   ]
  },
  {
   "cell_type": "code",
   "execution_count": 154,
   "metadata": {},
   "outputs": [
    {
     "data": {
      "image/png": "[encoded data removed]",
      "text/plain": [
       "<Figure size 600x500 with 1 Axes>"
      ]
     },
     "metadata": {},
     "output_type": "display_data"
    }
   ],
   "source": [
    "# Inisialisasi Directed Graph\n",
    "G = nx.DiGraph()  # Gunakan DiGraph() untuk directed graph\n",
    "\n",
    "# Tambahkan node A, B, C, D, dan E pada graf\n",
    "G.add_nodes_from([\"A\", \"B\", \"C\", \"D\", \"E\"])\n",
    "\n",
    "# Tambahkan edge sesuai dengan soal\n",
    "G.add_edges_from([\n",
    "    (\"A\", \"B\"),\n",
    "    (\"A\", \"C\"),\n",
    "    (\"D\", \"B\"),\n",
    "    (\"C\", \"D\"),\n",
    "    (\"D\", \"E\")\n",
    "])\n",
    "\n",
    "# Definisikan posisi node secara manual (opsional)\n",
    "pos = {\n",
    "    \"A\": (0, 1),\n",
    "    \"B\": (1, 2),\n",
    "    \"C\": (1, 0),\n",
    "    \"D\": (2, 1),\n",
    "    \"E\": (3, 1)\n",
    "}\n",
    "# Fungsi untuk menampilkan graf dengan posisi yang sudah ditentukan\n",
    "def show_graph(G, pos=None, title=\"Directed Graph\"):\n",
    "    plt.figure(figsize=(6, 5))\n",
    "    nx.draw(G, pos, with_labels=True, node_color='red', font_color='white', \n",
    "            node_size=2000, font_size=12, font_weight='bold', edge_color='black', \n",
    "            arrows=True, arrowsize=20, width=5)  # Menambahkan panah untuk Directed Graph\n",
    "    plt.margins(0.2)\n",
    "    plt.title(title)\n",
    "    plt.show()\n",
    "\n",
    "# Hapus node C dari graf G\n",
    "G.remove_node(\"C\")\n",
    "\n",
    "# Tampilkan graf menggunakan posisi yang sudah ditentukan\n",
    "show_graph(G, pos, title=\"Penghapusan Node C pada Graf\")"
   ]
  },
  {
   "cell_type": "markdown",
   "metadata": {},
   "source": [
    "Contoh output:\n",
    "\n",
    "![Hapus node C dari Graf](./asset/10_remove_node_directed_graph.png)"
   ]
  },
  {
   "cell_type": "markdown",
   "metadata": {},
   "source": [
    "### 3. Graf Berbobot (Bobot Nilai: `40`)"
   ]
  },
  {
   "cell_type": "markdown",
   "metadata": {},
   "source": [
    "#### **!! Tidak usah diubah !!**"
   ]
  },
  {
   "cell_type": "code",
   "execution_count": 6,
   "metadata": {},
   "outputs": [],
   "source": [
    "# Posisi untuk undirected graph agar sesuai dengan contoh soal\n",
    "pos = {\n",
    "    \"A\": (0, 1),\n",
    "    \"B\": (1, 2),\n",
    "    \"C\": (1, 0),\n",
    "    \"D\": (2, 1),\n",
    "    \"E\": (3, 1),\n",
    "}"
   ]
  },
  {
   "cell_type": "markdown",
   "metadata": {},
   "source": [
    "Buat graf berarah yang diberi bobot pada *edge* seperti gambar di bawah menggunakan `pos` yang sudah diberikan pada contoh *output* di bawah."
   ]
  },
  {
   "cell_type": "code",
   "execution_count": 174,
   "metadata": {},
   "outputs": [
    {
     "data": {
      "image/png": "[encoded data removed]",
      "text/plain": [
       "<Figure size 600x500 with 1 Axes>"
      ]
     },
     "metadata": {},
     "output_type": "display_data"
    }
   ],
   "source": [
    "# Inisialisasi Directed Graph\n",
    "G = nx.DiGraph()  # Gunakan DiGraph() untuk directed graph\n",
    "\n",
    "# Tambahkan node A, B, C, D, dan E\n",
    "G.add_nodes_from([\"A\", \"B\", \"C\", \"D\", \"E\"])\n",
    "\n",
    "\n",
    "# Tambahkan edge dengan bobot sesuai dengan contoh output\n",
    "edges_with_weights = [\n",
    "    (\"B\", \"A\", 3),\n",
    "    (\"A\", \"C\", 10),\n",
    "    (\"B\", \"D\", 8),\n",
    "    (\"D\", \"C\", 11),\n",
    "    (\"E\", \"D\", 3)\n",
    "]\n",
    "\n",
    "G.add_weighted_edges_from(edges_with_weights)\n",
    "\n",
    "# Posisi untuk undirected graph agar sesuai dengan contoh soal\n",
    "pos = {\n",
    "    \"A\": (0, 1),\n",
    "    \"B\": (1, 2),\n",
    "    \"C\": (1, 0),\n",
    "    \"D\": (2, 1),\n",
    "    \"E\": (3, 1),\n",
    "}\n",
    "\n",
    "# Fungsi untuk menampilkan graf dengan posisi yang sudah ditentukan\n",
    "def show_graph(G, pos, title=\"Graph\"):\n",
    "    plt.figure(figsize=(6, 5))\n",
    "    nx.draw(G, pos, with_labels=True, node_color='red', font_color='white', edge_color='black', node_size=2000, font_size=12, font_weight='bold', width=5)\n",
    "\n",
    "    # Tambahkan label bobot pada edge\n",
    "    edge_labels = {(u, v): d[\"weight\"] for u, v, d in G.edges(data=True)}\n",
    "    nx.draw_networkx_edge_labels(G, pos, edge_labels=edge_labels, font_size=10, font_color='blue')\n",
    "\n",
    "    plt.margins(0.2)\n",
    "    plt.title(title)\n",
    "    plt.show()\n",
    "\n",
    "\n",
    "# Tampilkan graf dengan posisi yang sudah ditentukan\n",
    "show_graph(G, pos, title=\"Graf Berarah dengan Bobot\")\n"
   ]
  },
  {
   "cell_type": "markdown",
   "metadata": {},
   "source": [
    "Contoh *output* :\n",
    "\n",
    "![Contoh soal no.3](./asset/11_contoh_soal_3.png)"
   ]
  }
 ],
 "metadata": {
  "kernelspec": {
   "display_name": "base",
   "language": "python",
   "name": "python3"
  },
  "language_info": {
   "codemirror_mode": {
    "name": "ipython",
    "version": 3
   },
   "file_extension": ".py",
   "mimetype": "text/x-python",
   "name": "python",
   "nbconvert_exporter": "python",
   "pygments_lexer": "ipython3",
   "version": "3.8.18"
  }
 },
 "nbformat": 4,
 "nbformat_minor": 2
}
