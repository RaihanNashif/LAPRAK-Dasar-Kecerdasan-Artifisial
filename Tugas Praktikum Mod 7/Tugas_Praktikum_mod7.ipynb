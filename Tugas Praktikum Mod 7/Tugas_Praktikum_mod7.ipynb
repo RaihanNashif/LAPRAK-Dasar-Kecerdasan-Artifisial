{
 "cells": [
  {
   "cell_type": "markdown",
   "metadata": {},
   "source": [
    "<div align='center'>\n",
    "    <h1>Jurnal Praktikum Dasar Kecerdasan Artifisial</h1>\n",
    "    <h3>Modul 8: Implementasi Hill Climbing dan Simulated Annealing</h3>\n",
    "</div>"
   ]
  },
  {
   "cell_type": "markdown",
   "metadata": {},
   "source": [
    "### Tujuan Praktikum\n",
    "- Mahasiswa memahami dan mampu mengimplementasikan algoritma Hill Climbing pada python\n",
    "- Mahasiswa memahami dan mampu mengimplementasikan algoritma Simulated Annealing pada python"
   ]
  },
  {
   "cell_type": "markdown",
   "metadata": {},
   "source": [
    "**Jangan lupa untuk selalu import *library* Random ketika memulai sesi baru (*run time*) atau kode Python yang memerlukan penggunaan library Random** "
   ]
  },
  {
   "cell_type": "code",
   "execution_count": 13,
   "metadata": {},
   "outputs": [],
   "source": [
    "# import random\n",
    "import random # library ini akan digunakan untuk melakukan inisiasi solusi awal secara random\n",
    "import pandas as pd\n",
    "\n",
    "def printJadwal(solusi): \n",
    "    print(pd.DataFrame.from_dict(solusi, orient='index', columns=['Ruangan', 'Waktu']))"
   ]
  },
  {
   "cell_type": "markdown",
   "metadata": {},
   "source": [
    "## Hill Climbing"
   ]
  },
  {
   "cell_type": "markdown",
   "metadata": {},
   "source": [
    "### Soal 1"
   ]
  },
  {
   "cell_type": "markdown",
   "metadata": {},
   "source": [
    "SMA RezaSangar memiliki 9 mata pelajaran yang harus dijadwalkan untuk satu semester. Terdapat 3 ruang kelas yang tersedia dan setiap mata pelajaran harus dijadwalkan pada salah satu dari 4 waktu yang tersedia dalam seminggu. \n",
    "\n",
    "**Syarat:**\n",
    "- Tidak boleh ada dua mata pelajaran yang dijadwalkan pada waktu yang sama.\n",
    "- Setiap mata pelajaran harus dijadwalkan tepat pada satu waktu dan satu ruang\n",
    "\n",
    "**Final State:**\n",
    "- Seluruh mata pelajaran telah dijadwalkan ke dalam ruangan dan waktu yang tersedia tanpa adanya bentrok\n",
    "\n",
    "**Data mata pelajaran, ruang kelas, dan waktu yang tersedia**\n",
    "|Mata Pelajaran|Ruang Kelas|Waktu|\n",
    "|---|---|---|\n",
    "|Ekonomi|Ruang 101|Senin 08:00|\n",
    "|Geologi|Ruang 102|Senin 10:00|\n",
    "|Sejarah|Ruang 103|Selasa 08:00|\n",
    "|Fisika||Rabu 08:00|\n",
    "|Biologi|||\n",
    "|Kimia|||\n",
    "|Matematika|||\n",
    "|Bahasa Indonesia|||\n",
    "|Bahasa Inggris|||"
   ]
  },
  {
   "cell_type": "markdown",
   "metadata": {},
   "source": [
    "#### 1. Buat fungsi untuk mencari solusi awal (Bobot nilai: `15`)"
   ]
  },
  {
   "cell_type": "markdown",
   "metadata": {},
   "source": [
    "Hint: Solusi yang akan terbentuk adalah sebuah dictionary dengan `key berupa nama mata pelajaran` dan `value berupa tupple` ruang kelas dan waktu yang tersedia\n",
    "\n",
    "**Pro tips:** gunakan fungsi `random.choice()` untuk memilih secara acak nilai dalam array "
   ]
  },
  {
   "cell_type": "code",
   "execution_count": 5,
   "metadata": {},
   "outputs": [],
   "source": [
    "def initiateSolusiAwal(mapel, ruangan, waktu):\n",
    "    solusi = {} # Buat sebuah dictionary kosong\n",
    "    for mk in mapel: # Telusuri seluruh nilai dalam array mapel!\n",
    "        solusi[mk] = (random.choice(ruangan), random.choice(waktu)) \n",
    "    return solusi\n"
   ]
  },
  {
   "cell_type": "markdown",
   "metadata": {},
   "source": [
    "#### 2. Buat fungsi untuk menghitung jumlah jadwal yang bentrok (Bobot nilai: `10`)"
   ]
  },
  {
   "cell_type": "markdown",
   "metadata": {},
   "source": [
    "**Pro tips:** kita dapat melakukan eksplorasi nilai dictionary dengan menggunakan loop berikut `for key, value in dict.items():`"
   ]
  },
  {
   "cell_type": "code",
   "execution_count": 6,
   "metadata": {},
   "outputs": [],
   "source": [
    "def hitungBentrok(solusi):\n",
    "    jumlahBentrok = 0 # inisiasi nilai awal jumlah jadwal yang bentrok dengan nilai 0\n",
    "    jadwal = {} # buat dictionary kosong untuk menampung jadwal\n",
    "\n",
    "    for mataKuliah, (ruangan, waktu) in solusi.items(): # Telusuri seluruh nilai dalam dictionary solusi\n",
    "        key = (ruangan, waktu) # Tampung tupple yang ada pada dictionary\n",
    "        if key in jadwal: # Cek apakah tupple ruangan dan waktu sudah ada di jadwal atau belum\n",
    "            jumlahBentrok += 1 # Lakukan increment jumlah bentrok\n",
    "        else:\n",
    "            jadwal[key] = mataKuliah # isi key jadwal dengan tupple ruang dan waktu, dan value jadwal dengan nama mata pelajaran\n",
    "    \n",
    "    return jumlahBentrok\n"
   ]
  },
  {
   "cell_type": "markdown",
   "metadata": {},
   "source": [
    "#### 3. Buat fungsi untuk mencari tetangga (Bobot nilai: `20`)"
   ]
  },
  {
   "cell_type": "code",
   "execution_count": 7,
   "metadata": {},
   "outputs": [],
   "source": [
    "def cariTetangga(solusi, arrMapel, arrRuangan, arrWaktu):\n",
    "    tetangga = []  # ubah ke list\n",
    "    for pelajaran in arrMapel:\n",
    "        currRuangan, currWaktu = solusi[pelajaran]\n",
    "        \n",
    "        # Coba ganti ruangan\n",
    "        for ruangan in arrRuangan:\n",
    "            if ruangan != currRuangan:\n",
    "                tetanggaBaru = solusi.copy()\n",
    "                tetanggaBaru[pelajaran] = (ruangan, currWaktu)\n",
    "                tetangga.append(tetanggaBaru)\n",
    "\n",
    "        # Coba ganti waktu\n",
    "        for waktu in arrWaktu:\n",
    "            if waktu != currWaktu:\n",
    "                tetanggaBaru = solusi.copy()\n",
    "                tetanggaBaru[pelajaran] = (currRuangan, waktu)\n",
    "                tetangga.append(tetanggaBaru)\n",
    "    \n",
    "    return tetangga"
   ]
  },
  {
   "cell_type": "markdown",
   "metadata": {},
   "source": [
    "#### 4. Mencari solusi dengan hill climbing (Bobot nilai: `25`)"
   ]
  },
  {
   "cell_type": "markdown",
   "metadata": {},
   "source": [
    "a. definisikan data berdasarkan soal yang berikan"
   ]
  },
  {
   "cell_type": "code",
   "execution_count": 8,
   "metadata": {},
   "outputs": [],
   "source": [
    "mataPelajaran = [\n",
    "      'Ekonomi','Geologi','Sejarah','Fisika','Biologi','Kimia',\n",
    "      'Matematika','Bahasa Indonesia','Bahasa Inggris'\n",
    "]    # Inisiasikan list dengan nama mata pelajaran\n",
    "ruangKelas = ['Ruang 101','Ruang 102','Ruang 103'] # Inisiasikan list dengan nama ruangan\n",
    "waktu = ['Senin 08:00','Senin 10:00','Selasa 08:00','Rabu 08:00'] # Inisiasikan list dengan waktu yang tersedia\n"
   ]
  },
  {
   "cell_type": "markdown",
   "metadata": {},
   "source": [
    "b. Buat solusi awal dan hitung berapa banyak jadwal yang bentrok"
   ]
  },
  {
   "cell_type": "code",
   "execution_count": 14,
   "metadata": {},
   "outputs": [
    {
     "name": "stdout",
     "output_type": "stream",
     "text": [
      "Iterasi: 0\n",
      "Jumlah Bentrok: 3\n",
      "Solusi Awal:\n",
      "                    Ruangan        Waktu\n",
      "Ekonomi           Ruang 101   Rabu 08:00\n",
      "Geologi           Ruang 102  Senin 08:00\n",
      "Sejarah           Ruang 101  Senin 10:00\n",
      "Fisika            Ruang 101  Senin 08:00\n",
      "Biologi           Ruang 103  Senin 08:00\n",
      "Kimia             Ruang 102  Senin 08:00\n",
      "Matematika        Ruang 103   Rabu 08:00\n",
      "Bahasa Indonesia  Ruang 103   Rabu 08:00\n",
      "Bahasa Inggris    Ruang 103  Senin 08:00\n"
     ]
    }
   ],
   "source": [
    "solusi = initiateSolusiAwal(mataPelajaran,ruangKelas,waktu) # deklarasikan solusi awal dengan menggunakan fungsi initiateSolusiAwal()\n",
    "jumBentrok = hitungBentrok(solusi) # Hitung jumlah jadwal bentrok dengan fungsi hitungBentrok()\n",
    "iterasi = 0\n",
    "\n",
    "print(f\"Iterasi: {iterasi}\\nJumlah Bentrok: {jumBentrok}\\nSolusi Awal:\")\n",
    "printJadwal(solusi)"
   ]
  },
  {
   "cell_type": "markdown",
   "metadata": {},
   "source": [
    "**Output mungkin akan memberikan hasil yang berbeda karena dipilih secara acak**"
   ]
  },
  {
   "cell_type": "markdown",
   "metadata": {},
   "source": [
    "c. Lakukan looping hingga jadwal bentrok habis atau tidak ada jumlah jadwal bentrok yang lebih baik daripada solusi saat ini"
   ]
  },
  {
   "cell_type": "code",
   "execution_count": 15,
   "metadata": {},
   "outputs": [
    {
     "name": "stdout",
     "output_type": "stream",
     "text": [
      "\n",
      "Iterasi: 1\n",
      "Jumlah Bentrok: 2\n",
      "Solusi:\n",
      "                    Ruangan        Waktu\n",
      "Ekonomi           Ruang 101   Rabu 08:00\n",
      "Geologi           Ruang 102  Senin 10:00\n",
      "Sejarah           Ruang 101  Senin 10:00\n",
      "Fisika            Ruang 101  Senin 08:00\n",
      "Biologi           Ruang 103  Senin 08:00\n",
      "Kimia             Ruang 102  Senin 08:00\n",
      "Matematika        Ruang 103   Rabu 08:00\n",
      "Bahasa Indonesia  Ruang 103   Rabu 08:00\n",
      "Bahasa Inggris    Ruang 103  Senin 08:00\n",
      "--------------------------------------------------\n",
      "\n",
      "Iterasi: 2\n",
      "Jumlah Bentrok: 1\n",
      "Solusi:\n",
      "                    Ruangan        Waktu\n",
      "Ekonomi           Ruang 101   Rabu 08:00\n",
      "Geologi           Ruang 102  Senin 10:00\n",
      "Sejarah           Ruang 101  Senin 10:00\n",
      "Fisika            Ruang 101  Senin 08:00\n",
      "Biologi           Ruang 103  Senin 10:00\n",
      "Kimia             Ruang 102  Senin 08:00\n",
      "Matematika        Ruang 103   Rabu 08:00\n",
      "Bahasa Indonesia  Ruang 103   Rabu 08:00\n",
      "Bahasa Inggris    Ruang 103  Senin 08:00\n",
      "--------------------------------------------------\n",
      "\n",
      "Iterasi: 3\n",
      "Jumlah Bentrok: 0\n",
      "Solusi:\n",
      "                    Ruangan        Waktu\n",
      "Ekonomi           Ruang 101   Rabu 08:00\n",
      "Geologi           Ruang 102  Senin 10:00\n",
      "Sejarah           Ruang 101  Senin 10:00\n",
      "Fisika            Ruang 101  Senin 08:00\n",
      "Biologi           Ruang 103  Senin 10:00\n",
      "Kimia             Ruang 102  Senin 08:00\n",
      "Matematika        Ruang 102   Rabu 08:00\n",
      "Bahasa Indonesia  Ruang 103   Rabu 08:00\n",
      "Bahasa Inggris    Ruang 103  Senin 08:00\n",
      "--------------------------------------------------\n",
      "Solusi terbaik ditemukan\n",
      "\n",
      "Solusi terbaik: \n",
      "                    Ruangan        Waktu\n",
      "Ekonomi           Ruang 101   Rabu 08:00\n",
      "Geologi           Ruang 102  Senin 10:00\n",
      "Sejarah           Ruang 101  Senin 10:00\n",
      "Fisika            Ruang 101  Senin 08:00\n",
      "Biologi           Ruang 103  Senin 10:00\n",
      "Kimia             Ruang 102  Senin 08:00\n",
      "Matematika        Ruang 102   Rabu 08:00\n",
      "Bahasa Indonesia  Ruang 103   Rabu 08:00\n",
      "Bahasa Inggris    Ruang 103  Senin 08:00\n",
      "Jumlah jadwal bentrok:  0\n"
     ]
    }
   ],
   "source": [
    "while True:\n",
    "    tetangga = cariTetangga(solusi, mataPelajaran, ruangKelas, waktu) # cari tetangga solusi dengan menggunakan fungsi cariTetangga()\n",
    "\n",
    "    jumlahBentrokTetangga = [] # inisiasi list kosong (seharusnya list, bukan dict)\n",
    "    for solusiTetangga in tetangga: # telusuri seluruh kemungkinan tetangga yang sudah di dapatkan\n",
    "        bentrokTetangga = hitungBentrok(solusiTetangga) # hitung jadwal bentrok tetangga dengan fungsi hitungBentrok()\n",
    "        jumlahBentrokTetangga.append((solusiTetangga, bentrokTetangga)) # tambahkan tupple solusi dan jumlah bentrok kedalam list jumlahBentrokTetangga\n",
    "    \n",
    "    jumlahBentrokTetangga.sort(key=lambda x: x[1]) # melakukan sorting array berdasarkan nilai bentrok \n",
    "    bestTetangga, bestBentrok = jumlahBentrokTetangga[0] # mengambil solusi dan jumlah bentrok terbaik\n",
    "\n",
    "    if bestBentrok <  jumBentrok: # buat pengkondisian apabila jumlah bentrok tetangga lebih kecil dari nilai jumlah bentrok saat ini\n",
    "        solusi = bestTetangga # Assign nilai solusi menjadi solusi terbaik saat ini\n",
    "        jumBentrok = bestBentrok # Assign nilai jumBentrok menjadi jumlah bentrok paling sedikit saat ini\n",
    "        iterasi += 1 # increment iterasi\n",
    "        print(f\"\\nIterasi: {iterasi}\\nJumlah Bentrok: {jumBentrok}\\nSolusi:\")\n",
    "        printJadwal(solusi)\n",
    "        print(\"-\"*50)\n",
    "        if jumBentrok == 0: # percabangan jika jumlah bentrok sudah 0\n",
    "            print(\"Solusi terbaik ditemukan\")\n",
    "            break\n",
    "    else:\n",
    "        print(\"Tidak ada tetangga yang lebih baik. Algoritma berhenti.\")\n",
    "        break\n",
    "\n",
    "print(\"\\nSolusi terbaik: \")\n",
    "printJadwal(solusi)\n",
    "print(\"Jumlah jadwal bentrok: \", jumBentrok)"
   ]
  },
  {
   "cell_type": "markdown",
   "metadata": {},
   "source": [
    "### Soal 2 (Bobot nilai `30`)"
   ]
  },
  {
   "cell_type": "markdown",
   "metadata": {},
   "source": [
    "SMA RezaHaHaHa memiliki 9 mata pelajaran yang harus dijadwalkan untuk satu semester. Terdapat 3 ruang kelas yang tersedia dan setiap mata pelajaran harus dijadwalkan pada salah satu dari 4 waktu yang tersedia dalam seminggu. \n",
    "\n",
    "**Syarat:**\n",
    "- Tidak boleh ada dua mata pelajaran yang dijadwalkan pada waktu yang sama.\n",
    "- Setiap mata pelajaran harus dijadwalkan tepat pada satu waktu dan satu ruang\n",
    "- ada beberapa mata pelajaran yang harus `diambil terlebih dahulu` sebelum mata pelajaran tertentu\n",
    "\n",
    "**Final State:**\n",
    "- Seluruh mata pelajaran telah dijadwalkan ke dalam ruangan dan waktu yang tersedia tanpa adanya bentrok dan sudah sesuai dengan syarat pengambilan mata pelajaran\n",
    "\n",
    "**Data mata pelajaran, ruang kelas, dan waktu yang tersedia**\n",
    "|Mata Pelajaran|Ruang Kelas|Waktu|\n",
    "|---|---|---|\n",
    "|Logika Matematika|Ruang 101|Senin 08:00|\n",
    "|Matematika Diskrit|Ruang 102|Senin 10:00|\n",
    "|Kalkulus|Ruang 103|Selasa 08:00|\n",
    "|Kalkulus Lanjut||Rabu 08:00|\n",
    "|Agama|||\n",
    "|Pendidikan Karakter|||\n",
    "|Biologi|||\n",
    "|Kimia|||\n",
    "|Fisika|||\n",
    "\n",
    "**Syarat tambahan**\n",
    "- Mata pelajaran `Kalkulus Lanjut` harus diambil setelah mata pelajaran `Kalkulus`\n",
    "- Mata pelajaran `Matematika Diskrit` harus diambil setelah mata pelajaran `Logika Matematika`"
   ]
  },
  {
   "cell_type": "markdown",
   "metadata": {},
   "source": [
    "Pro tips: ketiga fungsi sebelumnya, namun `buat ulang fungsi hitungBentrok` dan tambahkan algoritma untuk memeriksa urutan mata pelajaran"
   ]
  },
  {
   "cell_type": "code",
   "execution_count": 16,
   "metadata": {},
   "outputs": [],
   "source": [
    "def hitungBentrok(solusi, urutan_mata_pelajaran):\n",
    "    jumlahBentrok = 0\n",
    "    jadwal = {}\n",
    "\n",
    "    # Deteksi bentrok waktu dan ruangan\n",
    "    for mataKuliah, (ruangan, waktu) in solusi.items():\n",
    "        key = (ruangan, waktu)\n",
    "        if key in jadwal:\n",
    "            jumlahBentrok += 1  # Bentrok ruangan dan waktu\n",
    "        else:\n",
    "            jadwal[key] = mataKuliah\n",
    "\n",
    "    # Deteksi bentrok urutan prasyarat\n",
    "    waktu_order = {\n",
    "        'Senin 08:00': 1, 'Senin 10:00': 2,\n",
    "        'Selasa 08:00': 3, 'Rabu 08:00': 4\n",
    "    }\n",
    "\n",
    "    for sebelum, sesudah in urutan_mata_pelajaran:\n",
    "        if waktu_order[solusi[sebelum][1]] >= waktu_order[solusi[sesudah][1]]:\n",
    "            jumlahBentrok += 1  # Prasyarat dijadwalkan setelah mata kuliah yang bergantung padanya\n",
    "\n",
    "    return jumlahBentrok"
   ]
  },
  {
   "cell_type": "code",
   "execution_count": 17,
   "metadata": {},
   "outputs": [],
   "source": [
    "mataPelajaran = [\n",
    "    'Logika Matematika', 'Matematika Diskrit', 'Kalkulus', 'Kalkulus Lanjut',\n",
    "    'Agama', 'Pendidikan Karakter', 'Biologi', 'Kimia', 'Fisika'\n",
    "]\n",
    "\n",
    "ruangKelas = ['Ruang 101', 'Ruang 102', 'Ruang 103']\n",
    "\n",
    "waktu = ['Senin 08:00', 'Senin 10:00', 'Selasa 08:00', 'Rabu 08:00']\n",
    "\n",
    "urutan_mata_pelajaran = [\n",
    "    ('Logika Matematika', 'Matematika Diskrit'),\n",
    "    ('Kalkulus', 'Kalkulus Lanjut')\n",
    "]\n"
   ]
  },
  {
   "cell_type": "code",
   "execution_count": 18,
   "metadata": {},
   "outputs": [
    {
     "name": "stdout",
     "output_type": "stream",
     "text": [
      "Iterasi: 0\n",
      "Jumlah Bentrok: 2\n",
      "Solusi Awal:\n",
      "                       Ruangan         Waktu\n",
      "Logika Matematika    Ruang 101   Senin 10:00\n",
      "Matematika Diskrit   Ruang 101   Senin 10:00\n",
      "Kalkulus             Ruang 102   Senin 08:00\n",
      "Kalkulus Lanjut      Ruang 103   Senin 10:00\n",
      "Agama                Ruang 101  Selasa 08:00\n",
      "Pendidikan Karakter  Ruang 102   Senin 10:00\n",
      "Biologi              Ruang 101    Rabu 08:00\n",
      "Kimia                Ruang 102  Selasa 08:00\n",
      "Fisika               Ruang 103    Rabu 08:00\n"
     ]
    }
   ],
   "source": [
    "solusi = initiateSolusiAwal(mataPelajaran, ruangKelas, waktu)\n",
    "jumBentrok = hitungBentrok(solusi, urutan_mata_pelajaran)\n",
    "iterasi = 0\n",
    "\n",
    "print(f\"Iterasi: {iterasi}\\nJumlah Bentrok: {jumBentrok}\\nSolusi Awal:\")\n",
    "printJadwal(solusi)\n"
   ]
  },
  {
   "cell_type": "code",
   "execution_count": 19,
   "metadata": {},
   "outputs": [
    {
     "name": "stdout",
     "output_type": "stream",
     "text": [
      "\n",
      "Iterasi: 1\n",
      "Jumlah Bentrok: 0\n",
      "Solusi:\n",
      "                       Ruangan         Waktu\n",
      "Logika Matematika    Ruang 101   Senin 08:00\n",
      "Matematika Diskrit   Ruang 101   Senin 10:00\n",
      "Kalkulus             Ruang 102   Senin 08:00\n",
      "Kalkulus Lanjut      Ruang 103   Senin 10:00\n",
      "Agama                Ruang 101  Selasa 08:00\n",
      "Pendidikan Karakter  Ruang 102   Senin 10:00\n",
      "Biologi              Ruang 101    Rabu 08:00\n",
      "Kimia                Ruang 102  Selasa 08:00\n",
      "Fisika               Ruang 103    Rabu 08:00\n",
      "--------------------------------------------------\n",
      "Solusi terbaik ditemukan\n",
      "\n",
      "Solusi terbaik: \n",
      "                       Ruangan         Waktu\n",
      "Logika Matematika    Ruang 101   Senin 08:00\n",
      "Matematika Diskrit   Ruang 101   Senin 10:00\n",
      "Kalkulus             Ruang 102   Senin 08:00\n",
      "Kalkulus Lanjut      Ruang 103   Senin 10:00\n",
      "Agama                Ruang 101  Selasa 08:00\n",
      "Pendidikan Karakter  Ruang 102   Senin 10:00\n",
      "Biologi              Ruang 101    Rabu 08:00\n",
      "Kimia                Ruang 102  Selasa 08:00\n",
      "Fisika               Ruang 103    Rabu 08:00\n",
      "Jumlah jadwal bentrok:  0\n"
     ]
    }
   ],
   "source": [
    "while True:\n",
    "    tetangga = cariTetangga(solusi, mataPelajaran, ruangKelas, waktu)\n",
    "    jumlahBentrokTetangga = []\n",
    "\n",
    "    for solusiTetangga in tetangga:\n",
    "        bentrokTetangga = hitungBentrok(solusiTetangga, urutan_mata_pelajaran)\n",
    "        jumlahBentrokTetangga.append((solusiTetangga, bentrokTetangga))\n",
    "\n",
    "    jumlahBentrokTetangga.sort(key=lambda x: x[1])\n",
    "    bestTetangga, bestBentrok = jumlahBentrokTetangga[0]\n",
    "\n",
    "    if bestBentrok < jumBentrok:\n",
    "        solusi = bestTetangga\n",
    "        jumBentrok = bestBentrok\n",
    "        iterasi += 1\n",
    "        print(f\"\\nIterasi: {iterasi}\\nJumlah Bentrok: {jumBentrok}\\nSolusi:\")\n",
    "        printJadwal(solusi)\n",
    "        print(\"-\"*50)\n",
    "        if jumBentrok == 0:\n",
    "            print(\"Solusi terbaik ditemukan\")\n",
    "            break\n",
    "    else:\n",
    "        print(\"Tidak ada tetangga yang lebih baik. Algoritma berhenti.\")\n",
    "        break\n",
    "\n",
    "print(\"\\nSolusi terbaik: \")\n",
    "printJadwal(solusi)\n",
    "print(\"Jumlah jadwal bentrok: \", jumBentrok)\n"
   ]
  },
  {
   "cell_type": "markdown",
   "metadata": {},
   "source": [
    "## Simulated Annealing\n"
   ]
  },
  {
   "cell_type": "markdown",
   "metadata": {},
   "source": [
    "**Jangan lupa untuk selalu import *library* ketika memulai sesi baru (*run time*) atau kode Python yang memerlukan penggunaan library** "
   ]
  },
  {
   "cell_type": "code",
   "execution_count": 20,
   "metadata": {},
   "outputs": [],
   "source": [
    "import random\n",
    "import math\n",
    "import numpy as np \n",
    "import matplotlib.pyplot as plt"
   ]
  },
  {
   "cell_type": "markdown",
   "metadata": {},
   "source": [
    "### Soal Cerita"
   ]
  },
  {
   "cell_type": "markdown",
   "metadata": {},
   "source": [
    "Ekspedisi SiReza memiliki 1 kantor pusat dan beberapa lokasi pelanggan yang harus dikunjungi untuk pengiriman barang. Setiap pelanggan memiliki permintaan barang yang berbeda, dan setiap kendaraan memiliki kapasitas maksimum yang dapat diangkut.\n",
    "\n",
    "**Tujuan:**\n",
    "- Semua pelanggan berhasil dilayani\n",
    "- Total jarak tempuh kendaraan atau biaya operasional dapat diminimalkan\n",
    "- Kapasitas kendaraan tidak terlampaui\n",
    "\n",
    "**Data Perusahaan Ekspedisi:**\n",
    "- Kantor pusat berada di koordinat `(50,50)`\n",
    "- Jumlah kendaraan yang bisa digunakan adalah `3`\n",
    "- Kapasitas tiap kendaraan adalah `100`\n",
    "\n",
    "**Data Pelanggan:**\n",
    "|ID Pelanggan|Koordinat X|Koordinat Y|Kapasitas yang dibutuhkan|\n",
    "|---|---|---|---|\n",
    "|Cust-1001|10|20|10|\n",
    "|Cust-1002|15|25|15|\n",
    "|Cust-1003|20|30|20|\n",
    "|Cust-1004|35|35|25|\n",
    "|Cust-1005|40|40|30|\n",
    "|Cust-1006|45|45|35|\n",
    "|Cust-1007|50|55|40|\n",
    "|Cust-1008|55|60|45|\n",
    "|Cust-1009|60|65|50|\n",
    "|Cust-1010|65|70|55|\n",
    "\n",
    "**Penting! :**\n",
    "\n",
    "**`Hint:`**\n",
    "Banyak function yang menggunakan parameter dengan nama yang sama seperti \n",
    "- arrCust merupakan array customer yang memiliki data berbentuk list yang berisi banyak tupple, berikut contoh dari datanya:\n",
    "\n",
    "        arrCust = [\n",
    "            (customerID, X, Y, Kapasitas),\n",
    "            (customerID, X, Y, Kapasitas)\n",
    "        ]\n",
    "\n",
    "- routes akan berisi rute yang dilewati oleh ketiga kendaraan data tersebut akan berupa list yang memiliki 3 list didalamnya, berikut contoh dari datanya:\n",
    "\n",
    "        routes = [\n",
    "            [customerID, customerID, customerID],\n",
    "            [customerID, customerID],\n",
    "            [customerID, customerID, customerID, customerID]\n",
    "        ]"
   ]
  },
  {
   "cell_type": "markdown",
   "metadata": {},
   "source": [
    "#### 1. Buat fungsi untuk menghitung jarak euclidean (Bobot nilai: `5`)"
   ]
  },
  {
   "cell_type": "markdown",
   "metadata": {},
   "source": [
    "Jarak Euclidean antara dua titik, (x₁, y₁) dan (x₂, y₂), dihitung dengan rumus berikut:\n",
    "\n",
    "```math\n",
    "d(x₁, y₁, x₂, y₂) = \\sqrt{(x₂ - x₁)^2 + (y₂ - y₁)^2}\n",
    "````\n",
    "\n",
    "Pro tips: gunakan `math.sqrt()` untuk menghitung akar."
   ]
  },
  {
   "cell_type": "code",
   "execution_count": 21,
   "metadata": {},
   "outputs": [],
   "source": [
    "# Input berupa 2 tupple koordinat\n",
    "def jarakEuclidean(a,b):\n",
    "    return math.sqrt((b[0] - a[0])**2 + (b[1] - a[1])**2)"
   ]
  },
  {
   "cell_type": "markdown",
   "metadata": {},
   "source": [
    "#### 2. Buat fungsi untuk mencari customer berdasarkan customer id (Bobot nilai: `5`)"
   ]
  },
  {
   "cell_type": "code",
   "execution_count": 33,
   "metadata": {},
   "outputs": [],
   "source": [
    "def cariPelanggan(customerID, arrCust):\n",
    "    for cust in arrCust:\n",
    "        if cust[0] == customerID:\n",
    "            return cust\n",
    "    return None\n"
   ]
  },
  {
   "cell_type": "markdown",
   "metadata": {},
   "source": [
    "#### 3. Buat fungsi untuk menghitung jarak keseluruhan dalam list routes (Bobot nilai: `10`)"
   ]
  },
  {
   "cell_type": "code",
   "execution_count": 32,
   "metadata": {},
   "outputs": [],
   "source": [
    "def totalJarak(routes, pusat, arrCust):\n",
    "    distance = 0\n",
    "    for route in routes:\n",
    "        if len(route) == 0:\n",
    "            continue\n",
    "        prev = pusat\n",
    "        for customerID in route:\n",
    "            customer = cariPelanggan(customerID, arrCust)\n",
    "            if customer is None:\n",
    "                continue\n",
    "            current = (customer[1], customer[2])\n",
    "            distance += jarakEuclidean(prev, current)\n",
    "            prev = current\n",
    "        # kembali ke pusat\n",
    "        distance += jarakEuclidean(prev, pusat)\n",
    "    return distance"
   ]
  },
  {
   "cell_type": "markdown",
   "metadata": {},
   "source": [
    "#### 4. Buat fungsi untuk melakukan validasi kapasitas pada list routes (Bobot nilai: `10`) "
   ]
  },
  {
   "cell_type": "code",
   "execution_count": 31,
   "metadata": {},
   "outputs": [],
   "source": [
    "def validateRoute(routes, arrCust, kapasitasMax):\n",
    "    for route in routes:\n",
    "        total = 0\n",
    "        for customerID in route:\n",
    "            customer = cariPelanggan(customerID, arrCust)\n",
    "            if customer is not None:\n",
    "                total += customer[3]\n",
    "        if total > kapasitasMax:\n",
    "            return False\n",
    "    return True\n"
   ]
  },
  {
   "cell_type": "markdown",
   "metadata": {},
   "source": [
    "#### 5. Buat fungsi untuk melakukan inisiasi solusi awal (Bobot nilai: `15`)"
   ]
  },
  {
   "cell_type": "code",
   "execution_count": 25,
   "metadata": {},
   "outputs": [],
   "source": [
    "def inisiasiSolusiAwal(jumlahKendaraan, arrCust, kapasitasMaksimum):\n",
    "    routes = []\n",
    "    for _ in range(jumlahKendaraan):\n",
    "        routes.append([])\n",
    "\n",
    "    # acak urutan pelanggan\n",
    "    shuffleCust = [cust[0] for cust in arrCust]\n",
    "    random.shuffle(shuffleCust)\n",
    "\n",
    "    for customerID in shuffleCust:\n",
    "        customer = cariPelanggan(customerID, arrCust)\n",
    "        placed = False\n",
    "        for route in routes:\n",
    "            total = sum(cariPelanggan(cid, arrCust)[3] for cid in route)\n",
    "            if total + customer[3] <= kapasitasMaksimum:\n",
    "                route.append(customerID)\n",
    "                placed = True\n",
    "                break\n",
    "        if not placed:\n",
    "            # paksa ke armada pertama jika semua penuh\n",
    "            routes[0].append(customerID)\n",
    "    return routes\n"
   ]
  },
  {
   "cell_type": "markdown",
   "metadata": {},
   "source": [
    "#### 6. Buat fungsi untuk mencari tetangga (Bobot nilai: `15`)"
   ]
  },
  {
   "cell_type": "code",
   "execution_count": 26,
   "metadata": {},
   "outputs": [],
   "source": [
    "def cariTetangga(routes, arrCust, kapasitasMax):\n",
    "    # Salin rute saat ini\n",
    "    new_routes = []\n",
    "    for route in routes:\n",
    "        new_routes.append(route.copy())\n",
    "\n",
    "    # pilih dua kendaraan acak\n",
    "    r1, r2 = random.sample(range(len(new_routes)), 2)\n",
    "    if len(new_routes[r1]) == 0 or len(new_routes[r2]) == 0:\n",
    "        return new_routes\n",
    "\n",
    "    # pilih satu pelanggan dari masing-masing rute\n",
    "    c1 = random.choice(new_routes[r1])\n",
    "    c2 = random.choice(new_routes[r2])\n",
    "\n",
    "    # swap\n",
    "    new_routes[r1].remove(c1)\n",
    "    new_routes[r2].remove(c2)\n",
    "    new_routes[r1].append(c2)\n",
    "    new_routes[r2].append(c1)\n",
    "\n",
    "    # jika valid, kembalikan new_routes, else tetap routes lama\n",
    "    if validateRoute(new_routes, arrCust, kapasitasMax):\n",
    "        return new_routes\n",
    "    else:\n",
    "        return routes"
   ]
  },
  {
   "cell_type": "markdown",
   "metadata": {},
   "source": [
    "#### 7. Buat algoritma Simulated Annealing (Bobot nilai: `20`)"
   ]
  },
  {
   "cell_type": "code",
   "execution_count": 27,
   "metadata": {},
   "outputs": [],
   "source": [
    "def simulated_annealing(jumlahKendaraan, arrCust, kapasitasMaksimum, pusat):\n",
    "    # inisiasi\n",
    "    currentSolution = inisiasiSolusiAwal(jumlahKendaraan, arrCust, kapasitasMaksimum)\n",
    "    currentCost     = totalJarak(currentSolution, pusat, arrCust)\n",
    "    bestSolution    = [r.copy() for r in currentSolution]\n",
    "    bestCost        = currentCost\n",
    "\n",
    "    T     = 1000.0\n",
    "    T_min = 1.0\n",
    "    alpha = 0.9\n",
    "\n",
    "    while T > T_min:\n",
    "        for _ in range(100):\n",
    "            newSolution = cariTetangga(currentSolution, arrCust, kapasitasMaksimum)\n",
    "            newCost     = totalJarak(newSolution, pusat, arrCust)\n",
    "            delta = newCost - currentCost\n",
    "            if delta < 0 or random.uniform(0,1) < math.exp(-delta / T):\n",
    "                currentSolution = [r.copy() for r in newSolution]\n",
    "                currentCost     = newCost\n",
    "                if currentCost < bestCost:\n",
    "                    bestSolution = [r.copy() for r in currentSolution]\n",
    "                    bestCost     = currentCost\n",
    "        T *= alpha\n",
    "\n",
    "    return bestSolution, bestCost"
   ]
  },
  {
   "cell_type": "markdown",
   "metadata": {},
   "source": [
    "#### 8. Buat main untuk mencari solusi terbaik dengan menggunakan fungsi yang telah dibangun (Bobot nilai: `20`)"
   ]
  },
  {
   "cell_type": "markdown",
   "metadata": {},
   "source": [
    "a. inisiasi data berdasarkan soal cerita diatas"
   ]
  },
  {
   "cell_type": "code",
   "execution_count": 28,
   "metadata": {},
   "outputs": [],
   "source": [
    "if __name__ == \"__main__\":\n",
    "    # a) Inisiasi data\n",
    "    kantorPusat      = (50, 50)\n",
    "    arrCust = [\n",
    "        ('Cust-1001', 10, 20, 10),\n",
    "        ('Cust-1002', 15, 25, 15),\n",
    "        ('Cust-1003', 20, 30, 20),\n",
    "        ('Cust-1004', 35, 35, 25),\n",
    "        ('Cust-1005', 40, 40, 30),\n",
    "        ('Cust-1006', 45, 45, 35),\n",
    "        ('Cust-1007', 50, 55, 40),\n",
    "        ('Cust-1008', 55, 60, 45),\n",
    "        ('Cust-1009', 60, 65, 50),\n",
    "        ('Cust-1010', 65, 70, 55)\n",
    "    ]\n",
    "    jumlahKendaraan  = 3\n",
    "    kapasitasMaksimum = 100"
   ]
  },
  {
   "cell_type": "markdown",
   "metadata": {},
   "source": [
    "b. cari solusi terbaik dan tampilkan solusi tersebut"
   ]
  },
  {
   "cell_type": "code",
   "execution_count": 29,
   "metadata": {},
   "outputs": [
    {
     "name": "stdout",
     "output_type": "stream",
     "text": [
      "Rute Terbaik:\n",
      "Kendaraan 1: kantor pusat -> Cust-1003 -> Cust-1001 -> Cust-1002 -> Cust-1004 -> Cust-1005 -> kantor pusat\n",
      "Kendaraan 2: kantor pusat -> Cust-1010 -> Cust-1009 -> Cust-1008 -> kantor pusat\n",
      "Kendaraan 3: kantor pusat -> Cust-1007 -> Cust-1006 -> kantor pusat\n",
      "\n",
      "Jarak Rute Terbaik:  174.41648261142495\n"
     ]
    }
   ],
   "source": [
    "bestRoutes, bestDist = simulated_annealing(\n",
    "    jumlahKendaraan, arrCust, kapasitasMaksimum, kantorPusat\n",
    ")\n",
    " # tampilkan rute\n",
    "print(\"Rute Terbaik:\")\n",
    "for i, route in enumerate(bestRoutes):\n",
    "        print(f\"Kendaraan {i+1}: kantor pusat -> \", end=\"\")\n",
    "        for cid in route:\n",
    "            print(cid, \"-> \", end=\"\")\n",
    "        print(\"kantor pusat\")\n",
    "print(\"\\nJarak Rute Terbaik: \", bestDist)"
   ]
  },
  {
   "cell_type": "markdown",
   "metadata": {},
   "source": [
    "|input|output|\n",
    "|---|---|\n",
    "||Rute Terbaik:| \n",
    "||Kendaraan 1: kantor pusat -> Cust-1009 -> Cust-1005 -> Cust-1001 -> Cust-1007 -> kantor pusat|\n",
    "||Kendaraan 2: kantor pusat -> Cust-1010 -> Cust-1004 -> Cust-1002 -> kantor pusat| \n",
    "||Kendaraan 3: kantor pusat -> Cust-1006 -> Cust-1008 -> Cust-1003 -> kantor pusat|\n",
    "||Jarak Rute Terbaik:  392.6104322407335|"
   ]
  },
  {
   "cell_type": "markdown",
   "metadata": {},
   "source": [
    "c. Visualisasikan rute yang akan dilalui tiap kendaraan"
   ]
  },
  {
   "cell_type": "code",
   "execution_count": 30,
   "metadata": {},
   "outputs": [
    {
     "data": {
      "image/png": "[encoded data removed]",
      "text/plain": [
       "<Figure size 640x480 with 1 Axes>"
      ]
     },
     "metadata": {},
     "output_type": "display_data"
    },
    {
     "data": {
      "image/png": "[encoded data removed]",
      "text/plain": [
       "<Figure size 640x480 with 1 Axes>"
      ]
     },
     "metadata": {},
     "output_type": "display_data"
    },
    {
     "data": {
      "image/png": "[encoded data removed]",
      "text/plain": [
       "<Figure size 640x480 with 1 Axes>"
      ]
     },
     "metadata": {},
     "output_type": "display_data"
    }
   ],
   "source": [
    "route_coords = [[] for _ in range(jumlahKendaraan)]\n",
    "for i in range(jumlahKendaraan):\n",
    "        # mulai dari kantor pusat\n",
    "        route_coords[i].append(kantorPusat)\n",
    "        for cid in bestRoutes[i]:\n",
    "            cust = cariPelanggan(cid, arrCust)\n",
    "            coor = (cust[1], cust[2])\n",
    "            route_coords[i].append(coor)\n",
    "        # kembali ke pusat\n",
    "        route_coords[i].append(kantorPusat)\n",
    "\n",
    "for i, route in enumerate(route_coords):\n",
    "        plt.figure()\n",
    "        x, y = zip(*route)\n",
    "        plt.plot(x, y, marker='o', label=f'Kendaraan {i+1}')\n",
    "        plt.scatter(kantorPusat[0], kantorPusat[1], c='red', marker='s', label='Kantor Pusat')\n",
    "        plt.title(f'Rute Perjalanan Kendaraan ke-{i+1}')\n",
    "        plt.xlabel('X')\n",
    "        plt.ylabel('Y')\n",
    "        plt.legend()\n",
    "        plt.grid(True)\n",
    "        plt.show()\n"
   ]
  },
  {
   "cell_type": "markdown",
   "metadata": {},
   "source": [
    "contoh *output*\n",
    "\n",
    "**rute kendaraan 1**\n",
    "\n",
    "<img src=\"./asset/Kendaraan_1.png\" alt=\"Rute Kendaraan 1\" style=\"width: 50%; height: auto;\">\n",
    "\n",
    "**rute kendaraan 2**\n",
    "\n",
    "<img src=\"./asset/Kendaraan_2.png\" alt=\"Rute Kendaraan 2\" style=\"width: 50%; height: auto;\">\n",
    "\n",
    "**rute kendaraan 3**\n",
    "\n",
    "<img src=\"./asset/Kendaraan_3.png\" alt=\"Rute Kendaraan 3\" style=\"width: 50%; height: auto;\">\n"
   ]
  }
 ],
 "metadata": {
  "kernelspec": {
   "display_name": "Python 3",
   "language": "python",
   "name": "python3"
  },
  "language_info": {
   "codemirror_mode": {
    "name": "ipython",
    "version": 3
   },
   "file_extension": ".py",
   "mimetype": "text/x-python",
   "name": "python",
   "nbconvert_exporter": "python",
   "pygments_lexer": "ipython3",
   "version": "3.13.2"
  }
 },
 "nbformat": 4,
 "nbformat_minor": 2
}
