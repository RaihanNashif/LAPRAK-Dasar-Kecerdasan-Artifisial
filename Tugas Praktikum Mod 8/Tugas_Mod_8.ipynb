{
 "cells": [
  {
   "cell_type": "markdown",
   "metadata": {},
   "source": [
    "RUMUS ECLUDIAN\n",
    "\n",
    "akar((x2-x1)kuadrat + (y2-y1)kuadrat)\n",
    "\n",
    "Import library"
   ]
  },
  {
   "cell_type": "code",
   "execution_count": 1,
   "metadata": {},
   "outputs": [],
   "source": [
    "import random\n",
    "import math"
   ]
  },
  {
   "cell_type": "markdown",
   "metadata": {},
   "source": [
    "Deklarasi function"
   ]
  },
  {
   "cell_type": "code",
   "execution_count": 4,
   "metadata": {},
   "outputs": [],
   "source": [
    "def total_distance(tour, distance_matrix):\n",
    "    dist = 0\n",
    "    for i in range(len(tour) - 1):\n",
    "        dist += distance_matrix[tour[i]][tour[i + 1]]\n",
    "    # kembali ke kota asal\n",
    "    dist += distance_matrix[tour[-1]][tour[0]]\n",
    "    return dist\n",
    "\n",
    "def get_neighbors(tour):\n",
    "    neighbors = []\n",
    "    for i in range(1, len(tour)):      # mulai dari indeks 1 agar kota awal tetap\n",
    "        for j in range(i + 1, len(tour)):\n",
    "            neighbor = tour[:]\n",
    "            neighbor[i], neighbor[j] = neighbor[j], neighbor[i]\n",
    "            neighbors.append(neighbor)\n",
    "    return neighbors\n"
   ]
  },
  {
   "cell_type": "markdown",
   "metadata": {},
   "source": [
    "Hill Climbing Algorithm"
   ]
  },
  {
   "cell_type": "code",
   "execution_count": 7,
   "metadata": {},
   "outputs": [
    {
     "name": "stdout",
     "output_type": "stream",
     "text": [
      "Rute terbaik (urutan kota): A → B → E → D → C → A\n",
      "Total jarak: 80\n"
     ]
    }
   ],
   "source": [
    "# Matriks jarak antarkota (dari soal)\n",
    "distance_matrix = [\n",
    "    [0, 10, 15, 20, 25],\n",
    "    [10, 0, 35, 25, 15],\n",
    "    [15, 35, 0, 30, 20],\n",
    "    [20, 25, 30, 0, 10],\n",
    "    [25, 15, 20, 10, 0]\n",
    "]\n",
    "\n",
    "# Representasi kota\n",
    "city_names = ['A', 'B', 'C', 'D', 'E']\n",
    "\n",
    "# Buat urutan acak, tapi kota awal (A / indeks 0) tetap di depan\n",
    "current_solution = [0] + random.sample([1, 2, 3, 4], 4)\n",
    "current_distance = total_distance(current_solution, distance_matrix)\n",
    "\n",
    "while True:\n",
    "    neighbors = get_neighbors(current_solution)\n",
    "    best_neighbor = min(neighbors, key=lambda t: total_distance(t, distance_matrix))\n",
    "    best_distance = total_distance(best_neighbor, distance_matrix)\n",
    "\n",
    "    if best_distance >= current_distance:\n",
    "        break  # sudah di local optimum\n",
    "    current_solution = best_neighbor\n",
    "    current_distance = best_distance\n",
    "\n",
    "# Konversi hasil solusi ke nama kota\n",
    "named_solution = [city_names[i] for i in current_solution]\n",
    "print(\"Rute terbaik (urutan kota):\", \" → \".join(named_solution + [named_solution[0]]))  # kembali ke awal\n",
    "print(\"Total jarak:\", current_distance)\n"
   ]
  },
  {
   "cell_type": "markdown",
   "metadata": {},
   "source": [
    "1. Buat representasi solusi awal dengan urutan kota yang akan dikunjungi.\n",
    "Dalam kasus ini, terdapat 5 kota: A, B, C, D, dan E. kota-kota ini diwakili dengan indeks:\n",
    "\n",
    "A = 0, B = 1, C = 2, D = 3, E = 4\n",
    "\n",
    "Solusi awal  dibuat secara acak, tapi tetap diawali dari kota asal (A). \n",
    "Misalnya solusi awal (acak): [0, 3, 1, 4, 2]\n",
    "Artinya: A → D → B → E → C → kembali ke A"
   ]
  },
  {
   "cell_type": "markdown",
   "metadata": {},
   "source": [
    "2. Jelaskan bagaimana cara menghasilkan neighbors dari solusi awal tersebut dengan menukar dua kota.\n",
    "Neighbor adalah solusi yang mirip dengan solusi saat ini, namun berbeda karena dua kota dalam urutan ditukar. Untuk efisiensi dan konsistensi, kota awal (A) biasanya tidak diubah posisinya agar tetap menjadi titik awal dan akhir perjalanan.\n",
    "\n",
    "Misalnya, solusi awal:\n",
    "[0, 3, 1, 4, 2]  # A → D → B → E → C\n",
    "\n",
    "Kemungkinan neighbor:\n",
    "Tukar posisi 1 dan 2: [0, 1, 3, 4, 2] → A → B → D → E → C\n",
    "Tukar posisi 2 dan 4: [0, 3, 2, 4, 1] → A → D → C → E → B"
   ]
  },
  {
   "cell_type": "markdown",
   "metadata": {},
   "source": [
    "3. Gunakan algoritma Hill Climbing untuk mencari rute yang paling pendek. Berikan proses perubahan rute dari solusi awal ke solusi yang lebih baik.\n",
    "\n",
    "Langkah-langkah Hill Climbing:\n",
    "\n",
    "pertama-tama ambil solusi awal: [0, 3, 1, 4, 2] \n",
    "kemudian hitung total jaraknya: misalnya 105.\n",
    "dan bangkitkan semua tetangga (neighbors).\n",
    "Dari semua tetangga, ambil yang total jaraknya paling kecil.\n",
    "Jika ada tetangga dengan jarak lebih kecil dari solusi saat ini, update solusi sekarang.\n",
    "Ulangi proses sampai tidak ada tetangga yang lebih baik → berhenti.\n",
    "\n",
    "Contoh prosesnya :\n",
    "\n",
    "Iterasi 0: [0, 3, 1, 4, 2] → Jarak: 105\n",
    "Tetangga terbaik: [0, 1, 4, 3, 2] → Jarak: 90 → perbaikan!\n",
    "Iterasi 1: [0, 1, 4, 3, 2] → Tetangga terbaik: [0, 1, 4, 2, 3] → Jarak: 85 → perbaikan!\n",
    "Iterasi 2: [0, 1, 4, 2, 3] → Tidak ada tetangga yang lebih baik → berhenti.\n",
    "\n",
    "Solusi akhir = [0, 1, 4, 2, 3] (A → B → E → C → D → A)"
   ]
  },
  {
   "cell_type": "markdown",
   "metadata": {},
   "source": [
    "4. Apa rute terpendek yang ditemukan oleh algoritma? Apakah rute tersebut merupakan solusi paling optimal atau masih merupakan local optimum?\n",
    "Iya, tapi hill climbing tidak menjamin solusi paling optimal karena ia berhenti jika sudah tidak ada tetangga yang lebih baik, meskipun mungkin masih ada solusi yang lebih optimal dan ia hanyamelihat satu langkah perbaikan ke depan\n",
    "\n",
    "Demikian kesimpulannya solusi 80 adalah local optimum"
   ]
  }
 ],
 "metadata": {
  "kernelspec": {
   "display_name": "Python 3",
   "language": "python",
   "name": "python3"
  },
  "language_info": {
   "codemirror_mode": {
    "name": "ipython",
    "version": 3
   },
   "file_extension": ".py",
   "mimetype": "text/x-python",
   "name": "python",
   "nbconvert_exporter": "python",
   "pygments_lexer": "ipython3",
   "version": "3.13.2"
  },
  "orig_nbformat": 4
 },
 "nbformat": 4,
 "nbformat_minor": 2
}
