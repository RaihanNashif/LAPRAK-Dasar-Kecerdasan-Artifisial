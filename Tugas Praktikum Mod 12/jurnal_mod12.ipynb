{
 "cells": [
  {
   "cell_type": "markdown",
   "metadata": {},
   "source": [
    "<div align='center'>\n",
    "    <h1>Jurnal Praktikum Dasar Kecerdasan Artifisial</h1>\n",
    "    <h3>Modul 12: Pengenalan Library Scikit-Fuzzy</h3>\n",
    "</div>"
   ]
  },
  {
   "cell_type": "markdown",
   "metadata": {},
   "source": [
    "### Tujuan Praktikum\n",
    "- Mahasiswa memahami cara pembuatan program dengan *library* Scikit-Fuzzy.\n",
    "- Mahasiswa mengetahui fitur-fitur utama yang tersedia di *library* Scikit-Fuzzy.\n"
   ]
  },
  {
   "cell_type": "markdown",
   "metadata": {},
   "source": [
    "**Jangan lupa untuk selalu import *library* yang diperlikan ketika memulai sesi baru (*run time*) atau kode Python** "
   ]
  },
  {
   "cell_type": "code",
   "execution_count": 3,
   "metadata": {},
   "outputs": [],
   "source": [
    "import sympy as sp\n",
    "import skfuzzy as fuzz\n",
    "from skfuzzy import control as ctrl\n",
    "import numpy as np\n",
    "import matplotlib.pyplot as plt"
   ]
  },
  {
   "cell_type": "markdown",
   "metadata": {},
   "source": [
    "### **1. Prediksi Konsumsi Energi Gedung** (Bobot Nilai: 50)"
   ]
  },
  {
   "cell_type": "markdown",
   "metadata": {},
   "source": [
    "Anda diminta untuk mengembangkan sistem fuzzy yang dapat memprediksi Konsumsi Energi Harian sebuah gedung berdasarkan tiga parameter berikut:\n",
    "\n",
    "1. Jumlah Penghuni dalam satuan orang, dengan rentang 0 hingga 100.\n",
    "    - Fuzzy Set :\n",
    "        - **Few**: Triangular dengan titik $[0, 0, 40]$.\n",
    "        - **Medium**: Triangular dengan titik $[30, 50, 70]$.\n",
    "        - **Many**: Triangular dengan titik $[60, 100, 100]$.\n",
    "\n",
    "2. Suhu Rata-rata Harian (Temperature) dalam derajat Celcius, dengan rentang 15 hingga 35°C.\n",
    "    - Fuzzy Set :\n",
    "        - **Low**: Triangular dengan titik $[15, 15, 22]$.\n",
    "        - **Medium**: Triangular dengan titik $[20, 25, 30]$.\n",
    "        - **High**: Triangular dengan titik $[28, 35, 35]$.\n",
    "\n",
    "3. Durasi Penggunaan Listrik dalam jam, dengan rentang 0 hingga 24 jam.\n",
    "    - Fuzzy Set :\n",
    "        - **Short**: Triangular dengan titik $[0, 0, 8]$.\n",
    "        - **Medium**: Triangular dengan titik $[6, 12, 18]$.\n",
    "        - **Long**: Triangular dengan titik $[15, 24, 24]$.\n",
    "\n",
    "Sistem akan menghasilkan keluaran berupa Konsumsi Energi (Energy Consumption) dalam kilowatt-jam (kWh).\n",
    "- Fuzzy Set :\n",
    "    - **Low**: Triangular dengan titik $[0, 0, 100]$.\n",
    "    - **Medium**: Triangular dengan titik $[80, 150, 200]$.\n",
    "    - **High**: Triangular dengan titik $[180, 300, 300]$.\n"
   ]
  },
  {
   "cell_type": "markdown",
   "metadata": {},
   "source": [
    "#### **a. Definisikan Variabel Fuzzy** (15 Poin)"
   ]
  },
  {
   "cell_type": "code",
   "execution_count": null,
   "metadata": {},
   "outputs": [],
   "source": [
    "# Definisikan variabel input\n",
    "penghuni = None\n",
    "temperature = None\n",
    "durasi = None"
   ]
  },
  {
   "cell_type": "code",
   "execution_count": null,
   "metadata": {},
   "outputs": [],
   "source": [
    "# Definisikan variabel output\n",
    "energy_consumption = None"
   ]
  },
  {
   "cell_type": "code",
   "execution_count": null,
   "metadata": {},
   "outputs": [],
   "source": [
    "# Lengkapi fungsi keanggotaan berikut\n",
    "# Fungsi keanggotaan untuk penghuni\n",
    "penghuni['few'] = None\n",
    "penghuni['medium'] = None\n",
    "penghuni['many'] = None\n",
    "\n",
    "# Fungsi keanggotaan untuk Temperature\n",
    "temperature['low'] = None\n",
    "temperature['medium'] = None\n",
    "temperature['high'] = None\n",
    "\n",
    "# Fungsi keanggotaan untuk durasi\n",
    "durasi['short'] = None\n",
    "durasi['medium'] = None\n",
    "durasi['long'] = None\n",
    "\n",
    "# Fungsi keanggotaan untuk Energy Consumption\n",
    "energy_consumption['low'] = None\n",
    "energy_consumption['medium'] = None\n",
    "energy_consumption['high'] = None"
   ]
  },
  {
   "cell_type": "markdown",
   "metadata": {},
   "source": [
    "#### **b. Tampilkan Graf Untuk Setiap Keanggotaan** (10 Poin)"
   ]
  },
  {
   "cell_type": "code",
   "execution_count": 1,
   "metadata": {},
   "outputs": [],
   "source": [
    "# Buatkan graf untuk keanggotaan penghuni\n",
    "None"
   ]
  },
  {
   "cell_type": "markdown",
   "metadata": {},
   "source": [
    "Contoh *output*:"
   ]
  },
  {
   "cell_type": "markdown",
   "metadata": {},
   "source": [
    "![Visualisasi Output](./asset/1_keanggotaan_penghuni.png)"
   ]
  },
  {
   "cell_type": "code",
   "execution_count": 2,
   "metadata": {},
   "outputs": [],
   "source": [
    "# Buatkan graf untuk keanggotaan temperature\n",
    "None"
   ]
  },
  {
   "cell_type": "markdown",
   "metadata": {},
   "source": [
    "Contoh *output*:"
   ]
  },
  {
   "cell_type": "markdown",
   "metadata": {},
   "source": [
    "![Visualisasi Output](./asset/2_keanggotaan_temperature.png)"
   ]
  },
  {
   "cell_type": "code",
   "execution_count": 3,
   "metadata": {},
   "outputs": [],
   "source": [
    "# Buatkan graf untuk keanggotaan durasi\n",
    "None"
   ]
  },
  {
   "cell_type": "markdown",
   "metadata": {},
   "source": [
    "Contoh *output*:"
   ]
  },
  {
   "cell_type": "markdown",
   "metadata": {},
   "source": [
    "![Visualisasi Output](./asset/3_keanggotaan_durasi.png)"
   ]
  },
  {
   "cell_type": "code",
   "execution_count": 4,
   "metadata": {},
   "outputs": [],
   "source": [
    "# Buatkan graf untuk keanggotaan energy consumtion\n",
    "None"
   ]
  },
  {
   "cell_type": "markdown",
   "metadata": {},
   "source": [
    "Contoh *output*:"
   ]
  },
  {
   "cell_type": "markdown",
   "metadata": {},
   "source": [
    "![Visualisasi Output](./asset/4_keanggotaan_energy_consumtion.png)"
   ]
  },
  {
   "cell_type": "markdown",
   "metadata": {},
   "source": [
    "#### **c. Buat Aturan Fuzzy** (15 Poin)"
   ]
  },
  {
   "cell_type": "markdown",
   "metadata": {},
   "source": [
    "Buat aturan fuzzy berikut:\n",
    "1. Jika Penghuni \"few\" DAN Durasi \"short\", maka Energy Consumption \"low\"\n",
    "2. Jika Penghuni \"many\" ATAU Temperature \"high\", maka Energy Consumption \"high\"\n",
    "3. Jika Temperature \"medium\" DAN Durasi \"medium\", maka Energy Consumption \"medium\"\n",
    "4. Jika Penghuni \"few\" DAN NOT Temperature \"high\", maka Energy Consumption \"low\"\n",
    "5. Jika Durasi \"long\" ATAU (Temperature \"low\" DAN Penghuni \"medium\"), maka Energy Consumption \"high\""
   ]
  },
  {
   "cell_type": "code",
   "execution_count": null,
   "metadata": {},
   "outputs": [],
   "source": [
    "# Lengkapi dengan aturan fuzzy sesuai deskripsi\n",
    "rule1 = None \n",
    "rule2 = None\n",
    "rule3 = None\n",
    "rule4 = None\n",
    "rule5 = None"
   ]
  },
  {
   "cell_type": "code",
   "execution_count": null,
   "metadata": {},
   "outputs": [],
   "source": [
    "# Tambahkan aturan ke sistem kontrol\n",
    "energy_ctrl = None\n",
    "energy_simulation = None"
   ]
  },
  {
   "cell_type": "markdown",
   "metadata": {},
   "source": [
    "#### **d. Simulasikan Sistem** (10 Poin)"
   ]
  },
  {
   "cell_type": "markdown",
   "metadata": {},
   "source": [
    "Simulasikan sistem fuzzy dengan input berikut:\n",
    "\n",
    "Penghuni = 45 orang\n",
    "\n",
    "Temperature = 26°C\n",
    "\n",
    "Durasi = 14 jam\n",
    "\n",
    "Tampilkan konsumsi energi yang diprediksi."
   ]
  },
  {
   "cell_type": "code",
   "execution_count": null,
   "metadata": {},
   "outputs": [],
   "source": [
    "# Masukkan input ke dalam sistem fuzzy\n",
    "\n",
    "# Jalankan simulasi\n",
    "\n",
    "# Cetak hasil"
   ]
  },
  {
   "cell_type": "code",
   "execution_count": 5,
   "metadata": {},
   "outputs": [],
   "source": [
    "# Menampilkan hasil & visualisasi perhitungan\n",
    "None"
   ]
  },
  {
   "cell_type": "markdown",
   "metadata": {},
   "source": [
    "Contoh *output*:"
   ]
  },
  {
   "cell_type": "markdown",
   "metadata": {},
   "source": [
    "![Visualisasi Output](./asset/5_energy_simulation.png)"
   ]
  },
  {
   "cell_type": "markdown",
   "metadata": {},
   "source": [
    "### **2. Penentuan Risiko Investasi** (Bobot: 50)"
   ]
  },
  {
   "cell_type": "markdown",
   "metadata": {},
   "source": [
    "Anda diminta untuk membuat sistem fuzzy yang dapat menentukan Risiko Investasi berdasarkan tiga parameter:\n",
    "\n",
    "1. Jumlah Investasi dalam juta Rupiah, dengan rentang 10 hingga 100 juta.\n",
    "    - Fuzzy Set :\n",
    "        - **Low**: Triangular dengan titik $[10, 10, 40]$.\n",
    "        - **Medium**: Triangular dengan titik $[30, 50, 70]$.\n",
    "        - **High**: Triangular dengan titik $[60, 100, 100]$.\n",
    "\n",
    "2. Tingkat Pengembalian (Return Rate) dalam persentase, dengan rentang 0% hingga 20%.\n",
    "    - Fuzzy Set :\n",
    "        - **Low**: Triangular dengan titik $[0, 0, 7]$.\n",
    "        - **Medium**: Triangular dengan titik $[5, 10, 15]$.\n",
    "        - **High**: Triangular dengan titik $[13, 20, 20]$.\n",
    "\n",
    "3. Stabilitas Pasar dalam skala 0 hingga 10.\n",
    "    - Fuzzy Set :\n",
    "        - **Unstable**: Triangular dengan titik $[0, 0, 4]$.\n",
    "        - **Stable**: Triangular dengan titik $[3, 5, 7]$.\n",
    "        - **Very Stable**: Triangular dengan titik $[6, 10, 10]$.\n",
    "\n",
    "Sistem akan menghasilkan keluaran berupa Risiko Investasi.\n",
    "- Fuzzy Set :\n",
    "    - **Low**: Triangular dengan titik $[0, 0, 40]$.\n",
    "    - **Medium**: Triangular dengan titik $[30, 50, 70]$.\n",
    "    - **High**: Triangular dengan titik $[60, 100, 100]$.\n"
   ]
  },
  {
   "cell_type": "markdown",
   "metadata": {},
   "source": [
    "#### **a. Definisikan Variabel Fuzzy** (15 Poin)"
   ]
  },
  {
   "cell_type": "code",
   "execution_count": 8,
   "metadata": {},
   "outputs": [],
   "source": [
    "# Definisikan variabel input\n",
    "jumlah = None\n",
    "return_rate = None\n",
    "stabilitas = None"
   ]
  },
  {
   "cell_type": "code",
   "execution_count": null,
   "metadata": {},
   "outputs": [],
   "source": [
    "# Definisikan variabel output\n",
    "risiko = None"
   ]
  },
  {
   "cell_type": "code",
   "execution_count": null,
   "metadata": {},
   "outputs": [],
   "source": [
    "# Lengkapi fungsi keanggotaan berikut\n",
    "# Fungsi keanggotaan untuk Investment Amount\n",
    "jumlah['low'] = None\n",
    "jumlah['medium'] = None\n",
    "jumlah['high'] = None\n",
    "\n",
    "# Fungsi keanggotaan untuk Return Rate\n",
    "return_rate['low'] = None\n",
    "return_rate['medium'] = None\n",
    "return_rate['high'] = None\n",
    "\n",
    "# Fungsi keanggotaan untuk Market Stability\n",
    "stabilitas['unstable'] = None\n",
    "stabilitas['stable'] = None\n",
    "stabilitas['very_stable'] = None\n",
    "\n",
    "# Fungsi keanggotaan untuk Investment Risk\n",
    "risiko['low'] = None\n",
    "risiko['medium'] = None\n",
    "risiko['high'] = None"
   ]
  },
  {
   "cell_type": "markdown",
   "metadata": {},
   "source": [
    "#### **b. Tampilkan Graf Untuk Setiap Keanggotaan** (10 Poin)"
   ]
  },
  {
   "cell_type": "code",
   "execution_count": 11,
   "metadata": {},
   "outputs": [],
   "source": [
    "# Buatkan graf untuk keanggotaan jumlah\n",
    "None"
   ]
  },
  {
   "cell_type": "markdown",
   "metadata": {},
   "source": [
    "Contoh *output*:"
   ]
  },
  {
   "cell_type": "markdown",
   "metadata": {},
   "source": [
    "![Visualisasi Output](./asset/6_keanggotaan_jumlah.png)"
   ]
  },
  {
   "cell_type": "code",
   "execution_count": 12,
   "metadata": {},
   "outputs": [],
   "source": [
    "# Buatkan graf untuk keanggotaan return_rate\n",
    "None"
   ]
  },
  {
   "cell_type": "markdown",
   "metadata": {},
   "source": [
    "Contoh *output*:"
   ]
  },
  {
   "cell_type": "markdown",
   "metadata": {},
   "source": [
    "![Visualisasi Output](./asset/7_keanggotaan_return_rate.png)"
   ]
  },
  {
   "cell_type": "code",
   "execution_count": 13,
   "metadata": {},
   "outputs": [],
   "source": [
    "# Buatkan graf untuk keanggotaan stabilitas\n",
    "None"
   ]
  },
  {
   "cell_type": "markdown",
   "metadata": {},
   "source": [
    "Contoh *output*:"
   ]
  },
  {
   "cell_type": "markdown",
   "metadata": {},
   "source": [
    "![Visualisasi Output](./asset/8_keanggotaan_stabilitas.png)"
   ]
  },
  {
   "cell_type": "code",
   "execution_count": 14,
   "metadata": {},
   "outputs": [],
   "source": [
    "# Buatkan graf untuk keanggotaan risiko\n",
    "None"
   ]
  },
  {
   "cell_type": "markdown",
   "metadata": {},
   "source": [
    "Contoh *output*:"
   ]
  },
  {
   "cell_type": "markdown",
   "metadata": {},
   "source": [
    "![Visualisasi Output](./asset/9_keanggotaan_risiko.png)"
   ]
  },
  {
   "cell_type": "markdown",
   "metadata": {},
   "source": [
    "#### **c. Buat Aturan Fuzzy** (15 Poin)"
   ]
  },
  {
   "cell_type": "markdown",
   "metadata": {},
   "source": [
    "Buat aturan fuzzy yang mencakup penggabungan kondisi AND dan OR, serta aturan dengan bobot yang berbeda.\n",
    "\n",
    "Aturan yang harus dibuat:\n",
    "1. Jika Jumlah \"low\" DAN Return Rate \"low\", maka Risiko \"low\".\n",
    "2. Jika Jumlah \"medium\" DAN STabilitas \"stable\", maka Risiko \"medium\".\n",
    "3. Jika Jumlah \"high\" ATAU Return Rate \"high\" DAN STabilitas \"unstable\", maka Risiko \"high\".\n",
    "4. Jika Return Rate \"medium\" DAN STabilitas \"very_stable\", maka Risiko \"medium\".\n",
    "5. Jika Jumlah \"low\" DAN STabilitas \"very_stable\", maka Risiko \"low\"."
   ]
  },
  {
   "cell_type": "code",
   "execution_count": null,
   "metadata": {},
   "outputs": [],
   "source": [
    "# Aturan Fuzzy\n",
    "rule1 = None\n",
    "rule2 = None\n",
    "rule3 = None\n",
    "rule4 = None\n",
    "rule5 = None\n",
    "\n",
    "# Tambahkan aturan ke sistem kontrol\n",
    "investment_ctrl = None\n",
    "investment_simulation = None"
   ]
  },
  {
   "cell_type": "markdown",
   "metadata": {},
   "source": [
    "#### **d. Simulasikan Sistem** (10 Poin)"
   ]
  },
  {
   "cell_type": "markdown",
   "metadata": {},
   "source": [
    "Simulasikan sistem fuzzy dengan input berikut:\n",
    "\n",
    "- Jumlah = 50 juta\n",
    "- Return Rate = 10%\n",
    "- Stabilitas = 6\n",
    "\n",
    "Tampilkan risiko investasi yang disarankan."
   ]
  },
  {
   "cell_type": "code",
   "execution_count": null,
   "metadata": {},
   "outputs": [],
   "source": [
    "# Masukkan input ke dalam sistem fuzzy\n",
    "\n",
    "# Jalankan simulasi\n",
    "\n",
    "# Cetak hasil"
   ]
  },
  {
   "cell_type": "code",
   "execution_count": null,
   "metadata": {},
   "outputs": [],
   "source": [
    "# Menampilkan hasil & visualisasi perhitungan\n"
   ]
  },
  {
   "cell_type": "markdown",
   "metadata": {},
   "source": [
    "Contoh *output*:"
   ]
  },
  {
   "cell_type": "markdown",
   "metadata": {},
   "source": [
    "![Visualisasi Output](./asset/10_investment_simulation.png)"
   ]
  }
 ],
 "metadata": {
  "kernelspec": {
   "display_name": "Python 3",
   "language": "python",
   "name": "python3"
  },
  "language_info": {
   "codemirror_mode": {
    "name": "ipython",
    "version": 3
   },
   "file_extension": ".py",
   "mimetype": "text/x-python",
   "name": "python",
   "nbconvert_exporter": "python",
   "pygments_lexer": "ipython3",
   "version": "3.12.5"
  }
 },
 "nbformat": 4,
 "nbformat_minor": 2
}
